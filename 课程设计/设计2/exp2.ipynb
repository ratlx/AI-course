{
 "cells": [
  {
   "cell_type": "markdown",
   "id": "83e07072dbb8539f",
   "metadata": {
    "id": "83e07072dbb8539f"
   },
   "source": [
    "### 《人工智能》课程设计二\n",
    "#### 实验思路：（该设计是在13周前完成的，当时并未告知只能使用Mindsp框架，相关情况老师已经知晓，请见谅）\n",
    "\n",
    "1.使用tensorflow中的keras作为训练框架\n",
    "\n",
    "2.基于GRU模型进行训练\n",
    "\n",
    "3.运用了注意力机制，体验了中译英模型的全过程\n",
    "\n",
    "### 实验环境\n",
    "\n",
    "tensorflow==2.12, tensorflow-text==2.12\n",
    "### 实验步骤（中文翻译英文）"
   ]
  },
  {
   "cell_type": "code",
   "execution_count": null,
   "id": "initial_id",
   "metadata": {
    "ExecuteTime": {
     "end_time": "2024-12-11T11:50:59.728670Z",
     "start_time": "2024-12-11T11:50:59.725576Z"
    },
    "collapsed": true,
    "id": "initial_id",
    "jupyter": {
     "outputs_hidden": true
    }
   },
   "outputs": [],
   "source": [
    "import numpy as np\n",
    "\n",
    "import typing\n",
    "from typing import Any, Tuple\n",
    "\n",
    "import einops\n",
    "import matplotlib.pyplot as plt\n",
    "import matplotlib.ticker as ticker\n",
    "\n",
    "import tensorflow as tf\n",
    "import tensorflow_text as tf_text\n",
    "\n",
    "import jieba"
   ]
  },
  {
   "cell_type": "code",
   "execution_count": 3,
   "id": "632c54f903a13f48",
   "metadata": {
    "ExecuteTime": {
     "end_time": "2024-12-12T01:48:28.718968Z",
     "start_time": "2024-12-12T01:48:28.711196Z"
    },
    "id": "632c54f903a13f48"
   },
   "outputs": [],
   "source": [
    "import pathlib\n",
    "\n",
    "zh_train_path = pathlib.Path('data/train.zh')\n",
    "en_train_path = pathlib.Path('data/train.en')\n",
    "zh_val_path = pathlib.Path('data/val.zh')\n",
    "en_val_path = pathlib.Path('data/val.en')"
   ]
  },
  {
   "cell_type": "markdown",
   "id": "be817aed3b72e70c",
   "metadata": {
    "id": "be817aed3b72e70c"
   },
   "source": [
    "### 数据预处理\n",
    "\n",
    "1.为每个句子添加开始和结束标记。\n",
    "\n",
    "2.通过删除特殊字符来清理句子。\n",
    "\n",
    "3.创建单词索引和反向单词索引（从单词→id 和 id→单词映射的词典）。\n",
    "\n",
    "4.将每个句子填充至最大长度。\n",
    "\n",
    "### 中文的特殊处理\n",
    "\n",
    "对中文句子，使用jieba库进行分词"
   ]
  },
  {
   "cell_type": "code",
   "execution_count": null,
   "id": "22e85e34bee2ee69",
   "metadata": {
    "ExecuteTime": {
     "end_time": "2024-12-11T11:51:15.044444Z",
     "start_time": "2024-12-11T11:51:05.392409Z"
    },
    "id": "22e85e34bee2ee69"
   },
   "outputs": [],
   "source": [
    "def load_zh_data(path):\n",
    "    lines = path.read_text(encoding='utf-8').strip().split('\\n')\n",
    "\n",
    "    context = np.array([' '.join(jieba.cut(line)) for line in lines])\n",
    "\n",
    "    return context\n",
    "\n",
    "def load_en_data(path):\n",
    "    lines = path.read_text(encoding='utf-8').strip().split('\\n')\n",
    "\n",
    "    context = np.array([line for line in lines])\n",
    "\n",
    "    return context\n",
    "\n",
    "zh_train_raw = load_zh_data(zh_train_path)\n",
    "en_train_raw = load_en_data(en_train_path)\n",
    "zh_val_raw = load_zh_data(zh_val_path)\n",
    "en_val_raw = load_en_data(en_val_path)"
   ]
  },
  {
   "cell_type": "code",
   "execution_count": null,
   "id": "bc6f40cefa49696c",
   "metadata": {
    "ExecuteTime": {
     "end_time": "2024-12-11T11:51:17.003411Z",
     "start_time": "2024-12-11T11:51:17.000848Z"
    },
    "colab": {
     "base_uri": "https://localhost:8080/"
    },
    "executionInfo": {
     "elapsed": 2,
     "status": "ok",
     "timestamp": 1733928669193,
     "user": {
      "displayName": "Samuel Chan",
      "userId": "17883035136517502300"
     },
     "user_tz": -480
    },
    "id": "bc6f40cefa49696c",
    "outputId": "dcfcd61c-059f-432c-dd1d-85d178e4b8bc"
   },
   "outputs": [
    {
     "name": "stdout",
     "output_type": "stream",
     "text": [
      "随着 对 日本 资本主义 神奇 力量 信心 的 逐渐 减退 ， 1991 年 以后 日本 主要 城市 的 地价 一直 处在 稳步 的 回落 当中 。\n",
      "Urban land prices in major Japanese cities have steadily dropped over much of the period since 1991, as the enormous faith in the miraculous powers of Japanese capitalism gradually faded.\n",
      "214860 214860 12639 12639\n"
     ]
    }
   ],
   "source": [
    "print(zh_train_raw[-1])\n",
    "print(en_train_raw[-1])\n",
    "print(len(zh_train_raw), len(en_train_raw), len(zh_val_raw), len(en_val_raw))"
   ]
  },
  {
   "cell_type": "markdown",
   "id": "9e6e6fa9a47a59ee",
   "metadata": {
    "id": "9e6e6fa9a47a59ee"
   },
   "source": [
    "### 验证集、训练集合并\n",
    "\n",
    "由于要解决验证集、训练集的词汇表要统一的问题，对验证集、训练集进行合并"
   ]
  },
  {
   "cell_type": "code",
   "execution_count": null,
   "id": "f358cb5da4b799a",
   "metadata": {
    "ExecuteTime": {
     "end_time": "2024-12-11T11:51:20.555212Z",
     "start_time": "2024-12-11T11:51:19.735221Z"
    },
    "id": "f358cb5da4b799a"
   },
   "outputs": [],
   "source": [
    "context_raw = np.concatenate((zh_train_raw, zh_val_raw))\n",
    "target_raw = np.concatenate((en_train_raw, en_val_raw))"
   ]
  },
  {
   "cell_type": "code",
   "execution_count": null,
   "id": "37c8292c12234936",
   "metadata": {
    "ExecuteTime": {
     "end_time": "2024-12-11T11:51:22.596576Z",
     "start_time": "2024-12-11T11:51:22.594280Z"
    },
    "colab": {
     "base_uri": "https://localhost:8080/"
    },
    "executionInfo": {
     "elapsed": 2,
     "status": "ok",
     "timestamp": 1733928669848,
     "user": {
      "displayName": "Samuel Chan",
      "userId": "17883035136517502300"
     },
     "user_tz": -480
    },
    "id": "37c8292c12234936",
    "outputId": "0fef45fd-32cd-4fae-a19e-95b6b13fd94c"
   },
   "outputs": [
    {
     "name": "stdout",
     "output_type": "stream",
     "text": [
      "context_raw size: 227499\n",
      "target_raw size: 227499\n"
     ]
    }
   ],
   "source": [
    "print(f\"context_raw size: {len(context_raw)}\")\n",
    "print(f\"target_raw size: {len(target_raw)}\")"
   ]
  },
  {
   "cell_type": "markdown",
   "id": "feaf5b88ad3637a2",
   "metadata": {
    "id": "feaf5b88ad3637a2"
   },
   "source": [
    "### 创建 tf.data 数据集\n",
    "\n",
    "通过这些字符串数组，创建一个tf.data.Dataset字符串数组，以有效地对它们进行打乱和批处理：\n",
    "\n",
    "前95%为训练集，后5%为验证集。"
   ]
  },
  {
   "cell_type": "code",
   "execution_count": null,
   "id": "ca6cce492a7c2695",
   "metadata": {
    "ExecuteTime": {
     "end_time": "2024-12-11T11:51:29.325996Z",
     "start_time": "2024-12-11T11:51:28.167559Z"
    },
    "id": "ca6cce492a7c2695"
   },
   "outputs": [],
   "source": [
    "BUFFER_SIZE = len(context_raw)\n",
    "BATCH_SIZE = 64\n",
    "split_idx = int(0.95 * BUFFER_SIZE)\n",
    "\n",
    "train_raw = (\n",
    "    tf.data.Dataset\n",
    "    .from_tensor_slices((context_raw[:split_idx], target_raw[:split_idx]))\n",
    "    .shuffle(BUFFER_SIZE)\n",
    "    .batch(BATCH_SIZE))\n",
    "val_raw = (\n",
    "    tf.data.Dataset\n",
    "    .from_tensor_slices((context_raw[split_idx:], target_raw[split_idx:]))\n",
    "    .shuffle(BUFFER_SIZE)\n",
    "    .batch(BATCH_SIZE))"
   ]
  },
  {
   "cell_type": "code",
   "execution_count": null,
   "id": "60cd040f16e53224",
   "metadata": {
    "ExecuteTime": {
     "end_time": "2024-12-11T11:51:32.254252Z",
     "start_time": "2024-12-11T11:51:32.105463Z"
    },
    "colab": {
     "base_uri": "https://localhost:8080/"
    },
    "executionInfo": {
     "elapsed": 695,
     "status": "ok",
     "timestamp": 1733928671227,
     "user": {
      "displayName": "Samuel Chan",
      "userId": "17883035136517502300"
     },
     "user_tz": -480
    },
    "id": "60cd040f16e53224",
    "outputId": "04550648-7f27-49e9-fbd1-fd78039b3e62"
   },
   "outputs": [
    {
     "name": "stdout",
     "output_type": "stream",
     "text": [
      "['俄国 简直 是 用 大 把 的 钞票 买 回 了 国际 体系 中 引人注目 的 地位 ， 石油 和 天然气 代替 核武器 ， 为 俄国 重新 赢回 了 权力 和 影响 ， 贪婪 也 最终 代替 了 恐惧 。', '· 用 一个 互助 稳定 基金 支持 下 的 增长 战略 去 代替 紧缩 ;', '叙利亚 危机 爆发 时 ， 没 人 预测 到 会 如此 严重 、 漫长 和 复杂 。', '如此 大规模 不但 对 全球 经济 日益 重要 ， 也 日益 有利于 制衡 中国 在 亚洲 的 影响力 以及 管理 气候变化 、 公共卫生 和 网络安全 等 全球性 问题 。', '美国 每年 的 预算赤字 达到 GNP 的 5% ， 而且 差额 中有 很大 一部分 来自 亚洲各国 的 中央银行 。   这些 央行 目前 已经 持有 2 万亿美元 的 美国 国债 。']\n",
      "\n",
      "tf.Tensor(\n",
      "[b'Russia is literally buying its way back into the international system as a preeminent actor, one that is regaining power and clout by replacing nuclear weapons with oil and gas and substituting greed for fear.'\n",
      " b'\\xc2\\xb7 replacing austerity with a growth strategy, supported by a solidarity fund for stabilization;'\n",
      " b'When the crisis in Syria erupted, nobody predicted how serious, protracted, and complex it would turn out to be.'\n",
      " b'Its sheer scale will be increasingly important not only to the global economy, but also to balancing China\\xe2\\x80\\x99s influence in Asia and managing global issues such as climate change, public health, and cyber security.'\n",
      " b'The annual US budget deficit reached 5% of GNP, with an enormous part of the gap financed each year by Asian central banks, which now hold about $2 trillion in claims against America.'], shape=(5,), dtype=string)\n"
     ]
    }
   ],
   "source": [
    "for example_context_strings, example_target_strings in train_raw.take(1):\n",
    "    print([s.numpy().decode() for s in example_context_strings[:5]])\n",
    "    print()\n",
    "    print(example_target_strings[:5])\n",
    "    break"
   ]
  },
  {
   "cell_type": "markdown",
   "id": "1e0688f11fdc089d",
   "metadata": {
    "id": "1e0688f11fdc089d"
   },
   "source": [
    "为了使导出的模型有用，它应该接受tf.string输入并返回tf.string输出：所有文本处理都在模型内部进行。主要使用layers.TextVectorization层。\n",
    "\n",
    "#### 标准化\n",
    "\n",
    "该模型处理的是词汇量有限的多语言文本。因此，标准化输入文本非常重要。\n",
    "\n",
    "第一步是 Unicode 规范化，以拆分重音字符并用 ASCII 等效字符替换兼容字符。\n",
    "\n",
    "该tensorflow_text包包含一个unicode规范化操作："
   ]
  },
  {
   "cell_type": "code",
   "execution_count": null,
   "id": "hTVmjjJKLx1b",
   "metadata": {
    "id": "hTVmjjJKLx1b"
   },
   "outputs": [],
   "source": [
    "def tf_lower_and_split_punct(text):\n",
    "  # Split accented characters.\n",
    "  text = tf_text.normalize_utf8(text, 'NFKD')\n",
    "  text = tf.strings.lower(text)\n",
    "  # Keep space, a to z, and select punctuation.\n",
    "  text = tf.strings.regex_replace(text, '[^ 一-龥0-9a-z.?!,¿]', '')\n",
    "  # Add spaces around punctuation.\n",
    "  text = tf.strings.regex_replace(text, '[.?!,¿]', r' \\0 ')\n",
    "  # Strip whitespace.\n",
    "  text = tf.strings.strip(text)\n",
    "\n",
    "  text = tf.strings.join(['[START]', text, '[END]'], separator=' ')\n",
    "  return text"
   ]
  },
  {
   "cell_type": "code",
   "execution_count": null,
   "id": "ce5294f602d9900d",
   "metadata": {
    "ExecuteTime": {
     "end_time": "2024-12-11T11:51:39.105606Z",
     "start_time": "2024-12-11T11:51:39.099343Z"
    },
    "colab": {
     "base_uri": "https://localhost:8080/"
    },
    "executionInfo": {
     "elapsed": 4,
     "status": "ok",
     "timestamp": 1733928671228,
     "user": {
      "displayName": "Samuel Chan",
      "userId": "17883035136517502300"
     },
     "user_tz": -480
    },
    "id": "ce5294f602d9900d",
    "outputId": "13a18e37-ae53-402e-e936-41947f4b9ef6"
   },
   "outputs": [
    {
     "name": "stdout",
     "output_type": "stream",
     "text": [
      "我 是 你 爸爸\n",
      "[START] 我 是 你 爸爸 [END]\n"
     ]
    }
   ],
   "source": [
    "example_text = tf.constant('我 是 你 爸爸')\n",
    "\n",
    "print(example_text.numpy().decode())\n",
    "print(tf_lower_and_split_punct(example_text).numpy().decode())"
   ]
  },
  {
   "cell_type": "markdown",
   "id": "50e3e4699afebb78",
   "metadata": {
    "id": "50e3e4699afebb78"
   },
   "source": [
    "#### 文本矢量化\n",
    "\n",
    "这个标准化函数将被包裹在一个tf.keras.layers.TextVectorization层中，该层将处理词汇提取和输入文本到标记序列的转换。"
   ]
  },
  {
   "cell_type": "code",
   "execution_count": null,
   "id": "c6cb479606840340",
   "metadata": {
    "ExecuteTime": {
     "end_time": "2024-12-11T11:51:47.757268Z",
     "start_time": "2024-12-11T11:51:47.746708Z"
    },
    "id": "c6cb479606840340"
   },
   "outputs": [],
   "source": [
    "max_vocab_size = 5000\n",
    "\n",
    "context_text_processor = tf.keras.layers.TextVectorization(\n",
    "    standardize=tf_lower_and_split_punct,\n",
    "    max_tokens=max_vocab_size,\n",
    "    ragged=True)"
   ]
  },
  {
   "cell_type": "markdown",
   "id": "497f72d254777d3f",
   "metadata": {
    "id": "497f72d254777d3f"
   },
   "source": [
    "该TextVectorization层和许多其他Keras 预处理层都有一个adapt方法。此方法读取一个时期的训练数据，其工作原理与 非常相似Model.fit。此adapt方法根据数据初始化该层。在这里它确定词汇表："
   ]
  },
  {
   "cell_type": "code",
   "execution_count": null,
   "id": "7b476831868ad045",
   "metadata": {
    "ExecuteTime": {
     "end_time": "2024-12-11T11:51:54.767437Z",
     "start_time": "2024-12-11T11:51:51.196139Z"
    },
    "colab": {
     "base_uri": "https://localhost:8080/"
    },
    "executionInfo": {
     "elapsed": 5139,
     "status": "ok",
     "timestamp": 1733928676365,
     "user": {
      "displayName": "Samuel Chan",
      "userId": "17883035136517502300"
     },
     "user_tz": -480
    },
    "id": "7b476831868ad045",
    "outputId": "5c965f51-af99-41f4-c89e-6365c8d752e4"
   },
   "outputs": [
    {
     "name": "stdout",
     "output_type": "stream",
     "text": [
      "['', '[UNK]', '的', ',', '[START]', '[END]', '在', '和', '是', '了']\n"
     ]
    }
   ],
   "source": [
    "context_text_processor.adapt(train_raw.map(lambda context, target: context))\n",
    "\n",
    "# Here are the first 10 words from the vocabulary:\n",
    "print(context_text_processor.get_vocabulary()[:10])"
   ]
  },
  {
   "cell_type": "markdown",
   "id": "5630075ae8199966",
   "metadata": {
    "id": "5630075ae8199966"
   },
   "source": [
    "这是中文TextVectorization层，现在构建.adapt()英语层："
   ]
  },
  {
   "cell_type": "code",
   "execution_count": null,
   "id": "32f33891ee97e62f",
   "metadata": {
    "ExecuteTime": {
     "end_time": "2024-12-11T11:52:02.948948Z",
     "start_time": "2024-12-11T11:51:59.205304Z"
    },
    "colab": {
     "base_uri": "https://localhost:8080/"
    },
    "executionInfo": {
     "elapsed": 5316,
     "status": "ok",
     "timestamp": 1733928681677,
     "user": {
      "displayName": "Samuel Chan",
      "userId": "17883035136517502300"
     },
     "user_tz": -480
    },
    "id": "32f33891ee97e62f",
    "outputId": "42366959-34e3-4dab-9754-be51ed3e0571"
   },
   "outputs": [
    {
     "data": {
      "text/plain": [
       "['', '[UNK]', 'the', ',', '[START]', '[END]', '.', 'of', 'to', 'and']"
      ]
     },
     "execution_count": 149,
     "metadata": {},
     "output_type": "execute_result"
    }
   ],
   "source": [
    "target_text_processor = tf.keras.layers.TextVectorization(\n",
    "    standardize=tf_lower_and_split_punct,\n",
    "    max_tokens=max_vocab_size,\n",
    "    ragged=True)\n",
    "\n",
    "target_text_processor.adapt(train_raw.map(lambda context, target: target))\n",
    "target_text_processor.get_vocabulary()[:10]"
   ]
  },
  {
   "cell_type": "markdown",
   "id": "4efaa0b8f3dc83ed",
   "metadata": {
    "id": "4efaa0b8f3dc83ed"
   },
   "source": [
    "现在这些层可以将一批字符串转换为一批令牌 ID"
   ]
  },
  {
   "cell_type": "code",
   "execution_count": null,
   "id": "461693f4e765d641",
   "metadata": {
    "ExecuteTime": {
     "end_time": "2024-12-11T11:52:11.527810Z",
     "start_time": "2024-12-11T11:52:11.517474Z"
    },
    "colab": {
     "base_uri": "https://localhost:8080/"
    },
    "executionInfo": {
     "elapsed": 13,
     "status": "ok",
     "timestamp": 1733928681677,
     "user": {
      "displayName": "Samuel Chan",
      "userId": "17883035136517502300"
     },
     "user_tz": -480
    },
    "id": "461693f4e765d641",
    "outputId": "7b1bf9fa-3a0f-4caf-8992-1074013f9e4b"
   },
   "outputs": [
    {
     "name": "stdout",
     "output_type": "stream",
     "text": [
      "<tf.RaggedTensor [[4, 814, 4213, 8, 255, 140, 133, 2, 1, 3125, 3824, 9, 96, 367, 19, 3544, 2,\n",
      "  441, 3, 408, 7, 929, 3409, 816, 3, 34, 814, 359, 1, 9, 342, 7, 97, 3,\n",
      "  3858, 10, 240, 3409, 9, 1368, 5]                                          ,\n",
      " [4, 255, 21, 1, 198, 624, 85, 86, 2, 58, 288, 343, 3409, 700, 5],\n",
      " [4, 309, 106, 580, 93, 3, 1092, 41, 654, 45, 29, 176, 263, 2534, 7, 781, 5]]>\n"
     ]
    }
   ],
   "source": [
    "example_tokens = context_text_processor(example_context_strings)\n",
    "print(example_tokens[:3, :])"
   ]
  },
  {
   "cell_type": "markdown",
   "id": "6e7a17852ef017d1",
   "metadata": {
    "id": "6e7a17852ef017d1"
   },
   "source": [
    "该get_vocabulary方法可用于将 token ID 转换回文本："
   ]
  },
  {
   "cell_type": "code",
   "execution_count": null,
   "id": "af4cc56b2916c0b5",
   "metadata": {
    "ExecuteTime": {
     "end_time": "2024-12-11T11:52:14.952564Z",
     "start_time": "2024-12-11T11:52:14.941914Z"
    },
    "colab": {
     "base_uri": "https://localhost:8080/"
    },
    "executionInfo": {
     "elapsed": 12,
     "status": "ok",
     "timestamp": 1733928681677,
     "user": {
      "displayName": "Samuel Chan",
      "userId": "17883035136517502300"
     },
     "user_tz": -480
    },
    "id": "af4cc56b2916c0b5",
    "outputId": "ec6f4558-3bd9-4861-9303-407ce02a40ba"
   },
   "outputs": [
    {
     "name": "stdout",
     "output_type": "stream",
     "text": [
      "[START] 俄国 简直 是 用 大 把 的 [UNK] 买 回 了 国际 体系 中 引人注目 的 地位 , 石油 和 天然气 代替 核武器 , 为 俄国 重新 [UNK] 了 权力 和 影响 , 贪婪 也 最终 代替 了 恐惧 [END]\n",
      "[START] 用 一个 [UNK] 稳定 基金 支持 下 的 增长 战略 去 代替 紧缩 [END]\n",
      "[START] 叙利亚 危机 爆发 时 , 没 人 预测 到 会 如此 严重 漫长 和 复杂 [END]\n"
     ]
    }
   ],
   "source": [
    "context_vocab = np.array(context_text_processor.get_vocabulary())\n",
    "for e in example_tokens[:3, :]:\n",
    "    tokens = context_vocab[e.numpy()]\n",
    "    print(' '.join(tokens))\n"
   ]
  },
  {
   "cell_type": "markdown",
   "id": "58742c296342d59d",
   "metadata": {
    "id": "58742c296342d59d"
   },
   "source": [
    "返回的 token ID 以零填充。这可以很容易地变成一个掩码："
   ]
  },
  {
   "cell_type": "code",
   "execution_count": null,
   "id": "7054dd9f944889fc",
   "metadata": {
    "ExecuteTime": {
     "end_time": "2024-12-11T11:52:21.064757Z",
     "start_time": "2024-12-11T11:52:20.977556Z"
    },
    "colab": {
     "base_uri": "https://localhost:8080/",
     "height": 470
    },
    "executionInfo": {
     "elapsed": 9,
     "status": "ok",
     "timestamp": 1733928681677,
     "user": {
      "displayName": "Samuel Chan",
      "userId": "17883035136517502300"
     },
     "user_tz": -480
    },
    "id": "7054dd9f944889fc",
    "outputId": "158c5376-be91-488d-9cf1-5f040f03ef01"
   },
   "outputs": [
    {
     "data": {
      "text/plain": [
       "Text(0.5, 1.0, 'Mask')"
      ]
     },
     "execution_count": 152,
     "metadata": {},
     "output_type": "execute_result"
    },
    {
     "data": {
      "image/png": "[encoded data removed]",
      "text/plain": [
       "<Figure size 640x480 with 2 Axes>"
      ]
     },
     "metadata": {},
     "output_type": "display_data"
    }
   ],
   "source": [
    "plt.subplot(1, 2, 1)\n",
    "plt.pcolormesh(example_tokens.to_tensor())\n",
    "plt.title('Token IDs')\n",
    "\n",
    "plt.subplot(1, 2, 2)\n",
    "plt.pcolormesh(example_tokens.to_tensor() != 0)\n",
    "plt.title('Mask')"
   ]
  },
  {
   "cell_type": "markdown",
   "id": "931fc59c4d39d307",
   "metadata": {
    "id": "931fc59c4d39d307"
   },
   "source": [
    "### 处理数据集\n",
    "\n",
    "下面的函数将字符串的process_text转换Datasets为以 0 填充的标记 ID 张量。它还将一(context, target)对转换为一对，((context, target_in), target_out)以便使用 进行训练keras.Model.fit。Keras 期望(inputs, labels)成对，输入是(context, target_in)，标签是。和target_out之间的区别在于它们相对于彼此移动了一步，因此在每个位置，标签都是下一个标记。target_intarget_out"
   ]
  },
  {
   "cell_type": "code",
   "execution_count": null,
   "id": "bfe2ddb4ae93383e",
   "metadata": {
    "ExecuteTime": {
     "end_time": "2024-12-11T11:52:24.554365Z",
     "start_time": "2024-12-11T11:52:24.458786Z"
    },
    "id": "bfe2ddb4ae93383e"
   },
   "outputs": [],
   "source": [
    "def process_text(context, target):\n",
    "    context = context_text_processor(context).to_tensor()\n",
    "    target = target_text_processor(target)\n",
    "    targ_in = target[:,:-1].to_tensor()\n",
    "    targ_out = target[:,1:].to_tensor()\n",
    "    return (context, targ_in), targ_out\n",
    "\n",
    "\n",
    "train_ds = train_raw.map(process_text, tf.data.AUTOTUNE)\n",
    "val_ds = val_raw.map(process_text, tf.data.AUTOTUNE)"
   ]
  },
  {
   "cell_type": "markdown",
   "id": "4f2ab8b5c6706270",
   "metadata": {
    "id": "4f2ab8b5c6706270"
   },
   "source": [
    "以下是第一批中每个的第一个序列："
   ]
  },
  {
   "cell_type": "code",
   "execution_count": null,
   "id": "4f15f69612b36cb0",
   "metadata": {
    "ExecuteTime": {
     "end_time": "2024-12-11T11:52:27.270790Z",
     "start_time": "2024-12-11T11:52:27.116456Z"
    },
    "colab": {
     "base_uri": "https://localhost:8080/"
    },
    "executionInfo": {
     "elapsed": 4,
     "status": "ok",
     "timestamp": 1733928682752,
     "user": {
      "displayName": "Samuel Chan",
      "userId": "17883035136517502300"
     },
     "user_tz": -480
    },
    "id": "4f15f69612b36cb0",
    "outputId": "47780e86-6cd6-4a78-f358-6e2908e51a32"
   },
   "outputs": [
    {
     "name": "stdout",
     "output_type": "stream",
     "text": [
      "[   4 2325   32    8    3    1    1 2837 1399    2]\n",
      "\n",
      "[   4    2  108  346   13  232    1    1 2082 1857]\n",
      "[   2  108  346   13  232    1    1 2082 1857    8]\n"
     ]
    }
   ],
   "source": [
    "for (ex_context_tok, ex_tar_in), ex_tar_out in train_ds.take(1):\n",
    "    print(ex_context_tok[0, :10].numpy())\n",
    "    print()\n",
    "    print(ex_tar_in[0, :10].numpy())\n",
    "    print(ex_tar_out[0, :10].numpy())"
   ]
  },
  {
   "cell_type": "markdown",
   "id": "1f22dddea783ec30",
   "metadata": {
    "id": "1f22dddea783ec30"
   },
   "source": [
    "### 编码器/解码器\n",
    "\n",
    "在两个图中，编码器位于左侧，解码器位于右侧。在每个时间步骤中，解码器的输出与编码器的输出相结合，以预测下一个单词。\n",
    "\n",
    "原始的 [左] 包含一些额外的连接，这些连接被故意从本教程的模型 [右] 中省略，因为它们通常是不必要的，而且很难实现。这些缺失的连接是：\n",
    "\n",
    "1.将状态从编码器的 RNN 馈送到解码器的 RNN\n",
    "\n",
    "2.将注意力输出反馈给 RNN 的输入。\n",
    "\n",
    "![Attention Mechanism](attention_mechanism.jpg)\n",
    "\n",
    "在进入之前定义模型的常量：\n",
    "\n"
   ]
  },
  {
   "cell_type": "code",
   "execution_count": null,
   "id": "7e36f490835dec5b",
   "metadata": {
    "ExecuteTime": {
     "end_time": "2024-12-11T11:52:31.469697Z",
     "start_time": "2024-12-11T11:52:31.467849Z"
    },
    "id": "7e36f490835dec5b"
   },
   "outputs": [],
   "source": [
    "UNITS = 512"
   ]
  },
  {
   "cell_type": "markdown",
   "id": "2e0f81338afff66b",
   "metadata": {
    "id": "2e0f81338afff66b"
   },
   "source": [
    "由于使用了大量低级 API，因此很容易出现形状错误。本类用于检查形状。"
   ]
  },
  {
   "cell_type": "code",
   "execution_count": null,
   "id": "4eccdf0d6644ff49",
   "metadata": {
    "ExecuteTime": {
     "end_time": "2024-12-11T11:52:33.922434Z",
     "start_time": "2024-12-11T11:52:33.919084Z"
    },
    "id": "4eccdf0d6644ff49"
   },
   "outputs": [],
   "source": [
    "class ShapeChecker():\n",
    "    def __init__(self):\n",
    "        # Keep a cache of every axis-name seen\n",
    "        self.shapes = {}\n",
    "\n",
    "    def __call__(self, tensor, names, broadcast=False):\n",
    "        if not tf.executing_eagerly():\n",
    "            return\n",
    "\n",
    "        parsed = einops.parse_shape(tensor, names)\n",
    "\n",
    "        for name, new_dim in parsed.items():\n",
    "            old_dim = self.shapes.get(name, None)\n",
    "\n",
    "            if (broadcast and new_dim == 1):\n",
    "                continue\n",
    "\n",
    "            if old_dim is None:\n",
    "                # If the axis name is new, add its length to the cache.\n",
    "                self.shapes[name] = new_dim\n",
    "                continue\n",
    "\n",
    "            if new_dim != old_dim:\n",
    "                raise ValueError(f\"Shape mismatch for dimension: '{name}'\\n\"\n",
    "                                 f\"    found: {new_dim}\\n\"\n",
    "                                 f\"    expected: {old_dim}\\n\")"
   ]
  },
  {
   "cell_type": "markdown",
   "id": "bfba93e2882d5501",
   "metadata": {
    "id": "bfba93e2882d5501"
   },
   "source": [
    "### 编码器\n",
    "\n",
    "编码器的目标是将上下文序列处理成一系列向量，这些向量对解码器很有用，因为它会尝试预测每个时间步的下一个输出。由于上下文序列是恒定的，因此对信息在编码器中的流动方式没有限制，因此可以使用双向 RNN 进行处理：\n",
    "\n",
    "![RNN Bidirectional](RNN-bidirectional.png)\n",
    "\n",
    "编码器：\n",
    "\n",
    "1.获取令牌 ID 列表（来自context_text_processor）。\n",
    "\n",
    "2.查找每个标记的嵌入向量（使用layers.Embedding）。\n",
    "\n",
    "3.将嵌入处理成一个新的序列（使用双向layers.GRU）。\n",
    "\n",
    "4.返回已处理好的序列。这将被传递给注意力头。"
   ]
  },
  {
   "cell_type": "code",
   "execution_count": null,
   "id": "7cd6a64f0d92961d",
   "metadata": {
    "ExecuteTime": {
     "end_time": "2024-12-11T11:52:39.032790Z",
     "start_time": "2024-12-11T11:52:39.027567Z"
    },
    "id": "7cd6a64f0d92961d"
   },
   "outputs": [],
   "source": [
    "class Encoder(tf.keras.layers.Layer):\n",
    "    def __init__(self, text_processor, units):\n",
    "        super(Encoder, self).__init__()\n",
    "        self.text_processor = text_processor\n",
    "        self.vocab_size = text_processor.vocabulary_size()\n",
    "        self.units = units\n",
    "\n",
    "        # The embedding layer converts tokens to vectors\n",
    "        self.embedding = tf.keras.layers.Embedding(self.vocab_size, units,\n",
    "                                                   mask_zero=True)\n",
    "\n",
    "        # The RNN layer processes those vectors sequentially.\n",
    "        self.rnn = tf.keras.layers.Bidirectional(\n",
    "            merge_mode='sum',\n",
    "            layer=tf.keras.layers.GRU(units,\n",
    "                                      # Return the sequence and state\n",
    "                                      return_sequences=True,\n",
    "                                      recurrent_initializer='glorot_uniform'))\n",
    "\n",
    "    def call(self, x):\n",
    "        shape_checker = ShapeChecker()\n",
    "        shape_checker(x, 'batch s')\n",
    "\n",
    "        # 2. The embedding layer looks up the embedding vector for each token.\n",
    "        x = self.embedding(x)\n",
    "        shape_checker(x, 'batch s units')\n",
    "\n",
    "        # 3. The GRU processes the sequence of embeddings.\n",
    "        x = self.rnn(x)\n",
    "        shape_checker(x, 'batch s units')\n",
    "\n",
    "        # 4. Returns the new sequence of embeddings.\n",
    "        return x\n",
    "\n",
    "    def convert_input(self, texts):\n",
    "        texts = tf.convert_to_tensor(texts)\n",
    "        if len(texts.shape) == 0:\n",
    "            texts = tf.convert_to_tensor(texts)[tf.newaxis]\n",
    "        context = self.text_processor(texts).to_tensor()\n",
    "        context = self(context)\n",
    "        return context"
   ]
  },
  {
   "cell_type": "markdown",
   "id": "c95eab32505eb440",
   "metadata": {
    "id": "c95eab32505eb440"
   },
   "source": [
    "尝试一下："
   ]
  },
  {
   "cell_type": "code",
   "execution_count": null,
   "id": "82ba30d7d97af139",
   "metadata": {
    "ExecuteTime": {
     "end_time": "2024-12-11T11:52:44.127626Z",
     "start_time": "2024-12-11T11:52:43.892273Z"
    },
    "colab": {
     "base_uri": "https://localhost:8080/"
    },
    "executionInfo": {
     "elapsed": 568,
     "status": "ok",
     "timestamp": 1733928683317,
     "user": {
      "displayName": "Samuel Chan",
      "userId": "17883035136517502300"
     },
     "user_tz": -480
    },
    "id": "82ba30d7d97af139",
    "outputId": "bb390d34-ded8-4221-9bcd-324e0c1727cc"
   },
   "outputs": [
    {
     "name": "stdout",
     "output_type": "stream",
     "text": [
      "Context tokens, shape (batch, s): (64, 56)\n",
      "Encoder output, shape (batch, s, units): (64, 56, 512)\n"
     ]
    }
   ],
   "source": [
    "# Encode the input sequence.\n",
    "encoder = Encoder(context_text_processor, UNITS)\n",
    "ex_context = encoder(ex_context_tok)\n",
    "\n",
    "print(f'Context tokens, shape (batch, s): {ex_context_tok.shape}')\n",
    "print(f'Encoder output, shape (batch, s, units): {ex_context.shape}')"
   ]
  },
  {
   "cell_type": "markdown",
   "id": "be23cbe2af2d3ce5",
   "metadata": {
    "id": "be23cbe2af2d3ce5"
   },
   "source": [
    "### 注意力层\n",
    "\n",
    "注意层让解码器可以访问编码器提取的信息。它根据整个上下文序列计算出一个向量，并将其添加到解码器的输出中。\n",
    "\n",
    "从整个序列计算单个向量的最简单方法是取整个序列的平均值（layers.GlobalAveragePooling1D）。注意层类似，但计算整个上下文序列的加权平均值。其中权重是根据上下文和“查询”向量的组合计算出来的。\n",
    "\n",
    "![Cross Attention New Full](CrossAttention-new-full.png)"
   ]
  },
  {
   "cell_type": "code",
   "execution_count": null,
   "id": "206f5c6d39253756",
   "metadata": {
    "ExecuteTime": {
     "end_time": "2024-12-11T11:52:48.292558Z",
     "start_time": "2024-12-11T11:52:48.288916Z"
    },
    "id": "206f5c6d39253756"
   },
   "outputs": [],
   "source": [
    "class CrossAttention(tf.keras.layers.Layer):\n",
    "    def __init__(self, units, **kwargs):\n",
    "        super().__init__()\n",
    "        self.mha = tf.keras.layers.MultiHeadAttention(key_dim=units, num_heads=1, **kwargs)\n",
    "        self.layernorm = tf.keras.layers.LayerNormalization()\n",
    "        self.add = tf.keras.layers.Add()\n",
    "\n",
    "    def call(self, x, context):\n",
    "        shape_checker = ShapeChecker()\n",
    "\n",
    "        shape_checker(x, 'batch t units')\n",
    "        shape_checker(context, 'batch s units')\n",
    "\n",
    "        attn_output, attn_scores = self.mha(\n",
    "            query=x,\n",
    "            value=context,\n",
    "            return_attention_scores=True)\n",
    "\n",
    "        shape_checker(x, 'batch t units')\n",
    "        shape_checker(attn_scores, 'batch heads t s')\n",
    "\n",
    "        # Cache the attention scores for plotting later.\n",
    "        attn_scores = tf.reduce_mean(attn_scores, axis=1)\n",
    "        shape_checker(attn_scores, 'batch t s')\n",
    "        self.last_attention_weights = attn_scores\n",
    "\n",
    "        x = self.add([x, attn_output])\n",
    "        x = self.layernorm(x)\n",
    "\n",
    "        return x"
   ]
  },
  {
   "cell_type": "code",
   "execution_count": null,
   "id": "84e33ac67152231b",
   "metadata": {
    "ExecuteTime": {
     "end_time": "2024-12-11T11:52:52.077183Z",
     "start_time": "2024-12-11T11:52:52.007116Z"
    },
    "colab": {
     "base_uri": "https://localhost:8080/"
    },
    "executionInfo": {
     "elapsed": 7,
     "status": "ok",
     "timestamp": 1733928683318,
     "user": {
      "displayName": "Samuel Chan",
      "userId": "17883035136517502300"
     },
     "user_tz": -480
    },
    "id": "84e33ac67152231b",
    "outputId": "5383b503-8f1c-4e32-8b09-970ff122c509"
   },
   "outputs": [
    {
     "name": "stdout",
     "output_type": "stream",
     "text": [
      "Context sequence, shape (batch, s, units): (64, 56, 512)\n",
      "Target sequence, shape (batch, t, units): (64, 55, 512)\n",
      "Attention result, shape (batch, t, units): (64, 55, 512)\n",
      "Attention weights, shape (batch, t, s):    (64, 55, 56)\n"
     ]
    }
   ],
   "source": [
    "attention_layer = CrossAttention(UNITS)\n",
    "\n",
    "# Attend to the encoded tokens\n",
    "embed = tf.keras.layers.Embedding(target_text_processor.vocabulary_size(),\n",
    "                                  output_dim=UNITS, mask_zero=True)\n",
    "ex_tar_embed = embed(ex_tar_in)\n",
    "\n",
    "result = attention_layer(ex_tar_embed, ex_context)\n",
    "\n",
    "print(f'Context sequence, shape (batch, s, units): {ex_context.shape}')\n",
    "print(f'Target sequence, shape (batch, t, units): {ex_tar_embed.shape}')\n",
    "print(f'Attention result, shape (batch, t, units): {result.shape}')\n",
    "print(f'Attention weights, shape (batch, t, s):    {attention_layer.last_attention_weights.shape}')"
   ]
  },
  {
   "cell_type": "markdown",
   "id": "236093828188de1a",
   "metadata": {
    "id": "236093828188de1a"
   },
   "source": [
    "1在目标序列中的每个位置，注意力权重将会在上下文序列上相加。"
   ]
  },
  {
   "cell_type": "code",
   "execution_count": null,
   "id": "92bf43e33a3e2fb6",
   "metadata": {
    "ExecuteTime": {
     "end_time": "2024-12-11T11:52:56.390681Z",
     "start_time": "2024-12-11T11:52:56.386789Z"
    },
    "colab": {
     "base_uri": "https://localhost:8080/"
    },
    "executionInfo": {
     "elapsed": 6,
     "status": "ok",
     "timestamp": 1733928683318,
     "user": {
      "displayName": "Samuel Chan",
      "userId": "17883035136517502300"
     },
     "user_tz": -480
    },
    "id": "92bf43e33a3e2fb6",
    "outputId": "1941d8bc-ef4b-4e8a-f3e9-7c80f3ae8cb4"
   },
   "outputs": [
    {
     "data": {
      "text/plain": [
       "array([0.99999994, 1.0000001 , 1.        , 1.        , 1.        ,\n",
       "       1.        , 1.        , 1.        , 1.        , 1.        ,\n",
       "       0.99999994, 1.0000001 , 1.        , 1.        , 1.        ,\n",
       "       1.0000001 , 1.        , 1.        , 1.        , 1.        ,\n",
       "       1.        , 1.        , 1.        , 1.        , 1.        ,\n",
       "       1.        , 1.        , 1.        , 1.        , 1.        ,\n",
       "       1.        , 1.        , 1.        , 1.        , 1.        ,\n",
       "       1.        , 1.        , 1.        , 1.        , 1.        ,\n",
       "       1.        , 1.        , 1.        , 1.        , 1.        ,\n",
       "       1.        , 1.        , 1.        , 1.        , 1.        ,\n",
       "       1.        , 1.        , 1.        , 1.        , 1.        ],\n",
       "      dtype=float32)"
      ]
     },
     "execution_count": 161,
     "metadata": {},
     "output_type": "execute_result"
    }
   ],
   "source": [
    "attention_layer.last_attention_weights[0].numpy().sum(axis=-1)"
   ]
  },
  {
   "cell_type": "markdown",
   "id": "c495e8b12b191630",
   "metadata": {
    "id": "c495e8b12b191630"
   },
   "source": [
    "以下是上下文序列的注意力权重t=0："
   ]
  },
  {
   "cell_type": "code",
   "execution_count": null,
   "id": "6243bd0c40c2fa42",
   "metadata": {
    "ExecuteTime": {
     "end_time": "2024-12-11T11:53:00.229758Z",
     "start_time": "2024-12-11T11:53:00.147516Z"
    },
    "colab": {
     "base_uri": "https://localhost:8080/",
     "height": 452
    },
    "executionInfo": {
     "elapsed": 5,
     "status": "ok",
     "timestamp": 1733928683318,
     "user": {
      "displayName": "Samuel Chan",
      "userId": "17883035136517502300"
     },
     "user_tz": -480
    },
    "id": "6243bd0c40c2fa42",
    "outputId": "781bc7ce-1d6c-44af-88cc-a5985359d214"
   },
   "outputs": [
    {
     "data": {
      "image/png": "[encoded data removed]",
      "text/plain": [
       "<Figure size 640x480 with 2 Axes>"
      ]
     },
     "metadata": {},
     "output_type": "display_data"
    }
   ],
   "source": [
    "attention_weights = attention_layer.last_attention_weights\n",
    "mask=(ex_context_tok != 0).numpy()\n",
    "\n",
    "plt.subplot(1, 2, 1)\n",
    "plt.pcolormesh(mask*attention_weights[:, 0, :])\n",
    "plt.title('Attention weights')\n",
    "\n",
    "plt.subplot(1, 2, 2)\n",
    "plt.pcolormesh(mask)\n",
    "plt.title('Mask');"
   ]
  },
  {
   "cell_type": "markdown",
   "id": "cda06ce9ad0bf585",
   "metadata": {
    "id": "cda06ce9ad0bf585"
   },
   "source": [
    "由于初始化时随机性较小，注意力权重最初都接近于1/(sequence_length)。随着训练的进行，模型将学会让这些权重变得不那么统一。\n",
    "\n",
    "\n",
    "### 解码器\n",
    "解码器的工作是针对目标序列中每个位置的下一个标记生成预测。\n",
    "\n",
    "1.它查找目标序列中每个标记的嵌入。\n",
    "\n",
    "2.它使用 RNN 来处理目标序列，并跟踪迄今为止生成的内容。\n",
    "\n",
    "3.在关注编码器的输出时，它使用 RNN 输出作为注意层的“查询”。\n",
    "\n",
    "4.它会在输出的每个位置预测下一个标记。\n",
    "\n",
    "在训练时，模型会预测每个位置的下一个单词。因此，信息在模型中只朝一个方向流动非常重要。解码器使用单向（而非双向）RNN 来处理目标序列。\n",
    "\n",
    "当使用该模型进行推理时，它每次会生成一个单词，然后这些单词会反馈到模型中。\n",
    "\n",
    "![RNN](RNN.png)\n",
    "\n",
    "这是Decoder类的初始化程序。初始化程序创建了所有必要的层。"
   ]
  },
  {
   "cell_type": "code",
   "execution_count": null,
   "id": "acf1844b216fd404",
   "metadata": {
    "ExecuteTime": {
     "end_time": "2024-12-11T11:53:04.925044Z",
     "start_time": "2024-12-11T11:53:04.920670Z"
    },
    "id": "acf1844b216fd404"
   },
   "outputs": [],
   "source": [
    "class Decoder(tf.keras.layers.Layer):\n",
    "    @classmethod\n",
    "    def add_method(cls, fun):\n",
    "        setattr(cls, fun.__name__, fun)\n",
    "        return fun\n",
    "\n",
    "    def __init__(self, text_processor, units):\n",
    "        super(Decoder, self).__init__()\n",
    "        self.text_processor = text_processor\n",
    "        self.vocab_size = text_processor.vocabulary_size()\n",
    "        self.word_to_id = tf.keras.layers.StringLookup(\n",
    "            vocabulary=text_processor.get_vocabulary(),\n",
    "            mask_token='', oov_token='[UNK]')\n",
    "        self.id_to_word = tf.keras.layers.StringLookup(\n",
    "            vocabulary=text_processor.get_vocabulary(),\n",
    "            mask_token='', oov_token='[UNK]',\n",
    "            invert=True)\n",
    "        self.start_token = self.word_to_id('[START]')\n",
    "        self.end_token = self.word_to_id('[END]')\n",
    "\n",
    "        self.units = units\n",
    "\n",
    "\n",
    "        # 1. The embedding layer converts token IDs to vectors\n",
    "        self.embedding = tf.keras.layers.Embedding(self.vocab_size,\n",
    "                                                   units, mask_zero=True)\n",
    "\n",
    "        # 2. The RNN keeps track of what's been generated so far.\n",
    "        self.rnn = tf.keras.layers.GRU(units,\n",
    "                                       return_sequences=True,\n",
    "                                       return_state=True,\n",
    "                                       recurrent_initializer='glorot_uniform')\n",
    "\n",
    "        # 3. The RNN output will be the query for the attention layer.\n",
    "        self.attention = CrossAttention(units)\n",
    "\n",
    "        # 4. This fully connected layer produces the logits for each\n",
    "        # output token.\n",
    "        self.output_layer = tf.keras.layers.Dense(self.vocab_size)"
   ]
  },
  {
   "cell_type": "markdown",
   "id": "7c447c53b3eeccb0",
   "metadata": {
    "id": "7c447c53b3eeccb0"
   },
   "source": [
    "#### 训练\n",
    "接下来，该call方法接受 3 个参数：\n",
    "\n",
    "inputs-context, x一对，其中：\n",
    "\n",
    "context- 是来自编码器输出的上下文。\n",
    "\n",
    "x- 是目标序列输入。\n",
    "\n",
    "state- 可选，state解码器的上一次输出（解码器 RNN 的内部状态）。传递上一次运行的状态以继续从上次中断的地方生成文本。\n",
    "\n",
    "return_state- [默认值：False] - 将其设置为True返回 RNN 状态。"
   ]
  },
  {
   "cell_type": "code",
   "execution_count": null,
   "id": "f5a69fe435ac9ec5",
   "metadata": {
    "ExecuteTime": {
     "end_time": "2024-12-11T11:53:11.119599Z",
     "start_time": "2024-12-11T11:53:11.115441Z"
    },
    "id": "f5a69fe435ac9ec5"
   },
   "outputs": [],
   "source": [
    "@Decoder.add_method\n",
    "def call(self,\n",
    "         context, x,\n",
    "         state=None,\n",
    "         return_state=False):\n",
    "    shape_checker = ShapeChecker()\n",
    "    shape_checker(x, 'batch t')\n",
    "    shape_checker(context, 'batch s units')\n",
    "\n",
    "    # 1. Lookup the embeddings\n",
    "    x = self.embedding(x)\n",
    "    shape_checker(x, 'batch t units')\n",
    "\n",
    "    # 2. Process the target sequence.\n",
    "    x, state = self.rnn(x, initial_state=state)\n",
    "    shape_checker(x, 'batch t units')\n",
    "\n",
    "    # 3. Use the RNN output as the query for the attention over the context.\n",
    "    x = self.attention(x, context)\n",
    "    self.last_attention_weights = self.attention.last_attention_weights\n",
    "    shape_checker(x, 'batch t units')\n",
    "    shape_checker(self.last_attention_weights, 'batch t s')\n",
    "\n",
    "    # Step 4. Generate logit predictions for the next token.\n",
    "    logits = self.output_layer(x)\n",
    "    shape_checker(logits, 'batch t target_vocab_size')\n",
    "\n",
    "    if return_state:\n",
    "        return logits, state\n",
    "    else:\n",
    "        return logits"
   ]
  },
  {
   "cell_type": "markdown",
   "id": "f90fd7d2d06ba1f5",
   "metadata": {
    "id": "f90fd7d2d06ba1f5"
   },
   "source": [
    "这对于训练来说已经足够了。创建一个解码器实例来测试："
   ]
  },
  {
   "cell_type": "code",
   "execution_count": null,
   "id": "2341fe1646792409",
   "metadata": {
    "ExecuteTime": {
     "end_time": "2024-12-11T11:53:21.253649Z",
     "start_time": "2024-12-11T11:53:21.216448Z"
    },
    "id": "2341fe1646792409"
   },
   "outputs": [],
   "source": [
    "decoder = Decoder(target_text_processor, UNITS)"
   ]
  },
  {
   "cell_type": "markdown",
   "id": "ab54df98f51f18b4",
   "metadata": {
    "id": "ab54df98f51f18b4"
   },
   "source": [
    "在训练中你将像这样使用解码器：\n",
    "\n",
    "给定上下文和目标标记，它会针对每个目标标记预测下一个目标标记。"
   ]
  },
  {
   "cell_type": "code",
   "execution_count": null,
   "id": "77e28b626c04a58c",
   "metadata": {
    "ExecuteTime": {
     "end_time": "2024-12-11T11:53:24.008791Z",
     "start_time": "2024-12-11T11:53:23.771891Z"
    },
    "colab": {
     "base_uri": "https://localhost:8080/"
    },
    "executionInfo": {
     "elapsed": 540,
     "status": "ok",
     "timestamp": 1733928683854,
     "user": {
      "displayName": "Samuel Chan",
      "userId": "17883035136517502300"
     },
     "user_tz": -480
    },
    "id": "77e28b626c04a58c",
    "outputId": "b17da36e-3790-4a48-e4f6-8431bf3ec118"
   },
   "outputs": [
    {
     "name": "stdout",
     "output_type": "stream",
     "text": [
      "encoder output shape: (batch, s, units) (64, 56, 512)\n",
      "input target tokens shape: (batch, t) (64, 55)\n",
      "logits shape shape: (batch, target_vocabulary_size) (64, 55, 5000)\n"
     ]
    }
   ],
   "source": [
    "logits = decoder(ex_context, ex_tar_in)\n",
    "\n",
    "print(f'encoder output shape: (batch, s, units) {ex_context.shape}')\n",
    "print(f'input target tokens shape: (batch, t) {ex_tar_in.shape}')\n",
    "print(f'logits shape shape: (batch, target_vocabulary_size) {logits.shape}')"
   ]
  },
  {
   "cell_type": "markdown",
   "id": "73c53818c262b37",
   "metadata": {
    "id": "73c53818c262b37"
   },
   "source": [
    "推理\n",
    "\n",
    "要使用它进行推理，还需要加入其他的方法："
   ]
  },
  {
   "cell_type": "code",
   "execution_count": null,
   "id": "ab795533836dcaf1",
   "metadata": {
    "ExecuteTime": {
     "end_time": "2024-12-11T11:53:29.822693Z",
     "start_time": "2024-12-11T11:53:29.819571Z"
    },
    "id": "ab795533836dcaf1"
   },
   "outputs": [],
   "source": [
    "@Decoder.add_method\n",
    "def get_initial_state(self, context):\n",
    "    batch_size = tf.shape(context)[0]\n",
    "    start_tokens = tf.fill([batch_size, 1], self.start_token)\n",
    "    done = tf.zeros([batch_size, 1], dtype=tf.bool)\n",
    "    embedded = self.embedding(start_tokens)\n",
    "    return start_tokens, done, self.rnn.get_initial_state(embedded)[0]"
   ]
  },
  {
   "cell_type": "code",
   "execution_count": null,
   "id": "2936965e0b6964fc",
   "metadata": {
    "ExecuteTime": {
     "end_time": "2024-12-11T11:53:31.638042Z",
     "start_time": "2024-12-11T11:53:31.635277Z"
    },
    "id": "2936965e0b6964fc"
   },
   "outputs": [],
   "source": [
    "@Decoder.add_method\n",
    "def tokens_to_text(self, tokens):\n",
    "    words = self.id_to_word(tokens)\n",
    "    result = tf.strings.reduce_join(words, axis=-1, separator=' ')\n",
    "    result = tf.strings.regex_replace(result, '^ *\\[START\\] *', '')\n",
    "    result = tf.strings.regex_replace(result, ' *\\[END\\] *$', '')\n",
    "    return result"
   ]
  },
  {
   "cell_type": "code",
   "execution_count": null,
   "id": "40f3de1e20f2101b",
   "metadata": {
    "ExecuteTime": {
     "end_time": "2024-12-11T11:53:36.014576Z",
     "start_time": "2024-12-11T11:53:36.010764Z"
    },
    "id": "40f3de1e20f2101b"
   },
   "outputs": [],
   "source": [
    "@Decoder.add_method\n",
    "def get_next_token(self, context, next_token, done, state, temperature = 0.0):\n",
    "    logits, state = self(\n",
    "        context, next_token,\n",
    "        state = state,\n",
    "        return_state=True)\n",
    "\n",
    "    if temperature == 0.0:\n",
    "        next_token = tf.argmax(logits, axis=-1)\n",
    "    else:\n",
    "        logits = logits[:, -1, :]/temperature\n",
    "        next_token = tf.random.categorical(logits, num_samples=1)\n",
    "\n",
    "    # If a sequence produces an `end_token`, set it `done`\n",
    "    done = done | (next_token == self.end_token)\n",
    "    # Once a sequence is done it only produces 0-padding.\n",
    "    next_token = tf.where(done, tf.constant(0, dtype=tf.int64), next_token)\n",
    "\n",
    "    return next_token, done, state"
   ]
  },
  {
   "cell_type": "markdown",
   "id": "98d09838a9ef5780",
   "metadata": {
    "id": "98d09838a9ef5780"
   },
   "source": [
    "利用这些额外的函数，可以编写一个生成循环："
   ]
  },
  {
   "cell_type": "code",
   "execution_count": null,
   "id": "1786489f9e5c7ade",
   "metadata": {
    "ExecuteTime": {
     "end_time": "2024-12-11T11:54:36.894623Z",
     "start_time": "2024-12-11T11:54:36.863228Z"
    },
    "colab": {
     "base_uri": "https://localhost:8080/"
    },
    "executionInfo": {
     "elapsed": 519,
     "status": "ok",
     "timestamp": 1733928684372,
     "user": {
      "displayName": "Samuel Chan",
      "userId": "17883035136517502300"
     },
     "user_tz": -480
    },
    "id": "1786489f9e5c7ade",
    "outputId": "f5994f01-53ee-469e-9553-80f4b261adbe"
   },
   "outputs": [
    {
     "data": {
      "text/plain": [
       "array([b'nineteenthcentury understood unlikely longstanding friends farm arms campaign greenhouse algeria',\n",
       "       b'daunting half interested map barack told debates saved before borrowers',\n",
       "       b'90 ironically exclusively driver troika immense poll identity abenomics intervene'],\n",
       "      dtype=object)"
      ]
     },
     "execution_count": 170,
     "metadata": {},
     "output_type": "execute_result"
    }
   ],
   "source": [
    "# Setup the loop variables.\n",
    "next_token, done, state = decoder.get_initial_state(ex_context)\n",
    "tokens = []\n",
    "\n",
    "for n in range(10):\n",
    "    # Run one step.\n",
    "    next_token, done, state = decoder.get_next_token(\n",
    "        ex_context, next_token, done, state, temperature=1.0)\n",
    "    # Add the token to the output.\n",
    "    tokens.append(next_token)\n",
    "\n",
    "# Stack all the tokens together.\n",
    "tokens = tf.concat(tokens, axis=-1) # (batch, t)\n",
    "\n",
    "# Convert the tokens back to a a string\n",
    "result = decoder.tokens_to_text(tokens)\n",
    "result[:3].numpy()"
   ]
  },
  {
   "cell_type": "markdown",
   "id": "2865b86f20cf92d",
   "metadata": {
    "id": "2865b86f20cf92d"
   },
   "source": [
    "由于该模型未经训练，它几乎均匀地随机输出词汇表中的项目。\n",
    "\n",
    "### 模型\n",
    "\n",
    "设计完所有的模型组件后，将它们组合起来以构建用于训练的模型："
   ]
  },
  {
   "cell_type": "code",
   "execution_count": null,
   "id": "cad42733f308f52f",
   "metadata": {
    "ExecuteTime": {
     "end_time": "2024-12-11T08:15:24.446451Z",
     "start_time": "2024-12-11T08:15:24.442573Z"
    },
    "id": "cad42733f308f52f"
   },
   "outputs": [],
   "source": [
    "class Translator(tf.keras.Model):\n",
    "    @classmethod\n",
    "    def add_method(cls, fun):\n",
    "        setattr(cls, fun.__name__, fun)\n",
    "        return fun\n",
    "\n",
    "    def __init__(self, units,\n",
    "                 context_text_processor,\n",
    "                 target_text_processor):\n",
    "        super().__init__()\n",
    "        # Build the encoder and decoder\n",
    "        encoder = Encoder(context_text_processor, units)\n",
    "        decoder = Decoder(target_text_processor, units)\n",
    "\n",
    "        self.encoder = encoder\n",
    "        self.decoder = decoder\n",
    "\n",
    "    def call(self, inputs):\n",
    "        context, x = inputs\n",
    "        context = self.encoder(context)\n",
    "        logits = self.decoder(context, x)\n",
    "\n",
    "        #TODO(b/250038731): remove this\n",
    "        try:\n",
    "            # Delete the keras mask, so keras doesn't scale the loss+accuracy.\n",
    "            del logits._keras_mask\n",
    "        except AttributeError:\n",
    "            pass\n",
    "\n",
    "        return logits"
   ]
  },
  {
   "cell_type": "markdown",
   "id": "3f81a45e22be6161",
   "metadata": {
    "id": "3f81a45e22be6161"
   },
   "source": [
    "在训练期间，模型将按如下方式使用："
   ]
  },
  {
   "cell_type": "code",
   "execution_count": null,
   "id": "f708df219b7dbe98",
   "metadata": {
    "ExecuteTime": {
     "end_time": "2024-12-11T08:15:27.340778Z",
     "start_time": "2024-12-11T08:15:26.642576Z"
    },
    "colab": {
     "base_uri": "https://localhost:8080/"
    },
    "executionInfo": {
     "elapsed": 585,
     "status": "ok",
     "timestamp": 1733928684953,
     "user": {
      "displayName": "Samuel Chan",
      "userId": "17883035136517502300"
     },
     "user_tz": -480
    },
    "id": "f708df219b7dbe98",
    "outputId": "2aa6cc22-4992-4f69-9237-9c6c08b70906"
   },
   "outputs": [
    {
     "name": "stdout",
     "output_type": "stream",
     "text": [
      "Context tokens, shape: (batch, s, units) (64, 56)\n",
      "Target tokens, shape: (batch, t) (64, 55)\n",
      "logits, shape: (batch, t, target_vocabulary_size) (64, 55, 5000)\n"
     ]
    }
   ],
   "source": [
    "model = Translator(UNITS, context_text_processor, target_text_processor)\n",
    "\n",
    "logits = model((ex_context_tok, ex_tar_in))\n",
    "\n",
    "print(f'Context tokens, shape: (batch, s, units) {ex_context_tok.shape}')\n",
    "print(f'Target tokens, shape: (batch, t) {ex_tar_in.shape}')\n",
    "print(f'logits, shape: (batch, t, target_vocabulary_size) {logits.shape}')"
   ]
  },
  {
   "cell_type": "markdown",
   "id": "2c03c6a39618bace",
   "metadata": {
    "id": "2c03c6a39618bace"
   },
   "source": [
    "### 训练\n",
    "\n",
    "对于训练，您需要自己实现计算损失和准确率"
   ]
  },
  {
   "cell_type": "code",
   "execution_count": null,
   "id": "91279a23676cd286",
   "metadata": {
    "ExecuteTime": {
     "end_time": "2024-12-11T08:15:31.650579Z",
     "start_time": "2024-12-11T08:15:31.647828Z"
    },
    "id": "91279a23676cd286"
   },
   "outputs": [],
   "source": [
    "def masked_loss(y_true, y_pred):\n",
    "    # Calculate the loss for each item in the batch.\n",
    "    loss_fn = tf.keras.losses.SparseCategoricalCrossentropy(\n",
    "        from_logits=True, reduction='none')\n",
    "    loss = loss_fn(y_true, y_pred)\n",
    "\n",
    "    # Mask off the losses on padding.\n",
    "    mask = tf.cast(y_true != 0, loss.dtype)\n",
    "    loss *= mask\n",
    "\n",
    "    # Return the total.\n",
    "    return tf.reduce_sum(loss)/tf.reduce_sum(mask)"
   ]
  },
  {
   "cell_type": "code",
   "execution_count": null,
   "id": "b7f05a7a3b45003e",
   "metadata": {
    "ExecuteTime": {
     "end_time": "2024-12-11T08:15:34.166380Z",
     "start_time": "2024-12-11T08:15:34.163213Z"
    },
    "id": "b7f05a7a3b45003e"
   },
   "outputs": [],
   "source": [
    "def masked_acc(y_true, y_pred):\n",
    "    # Calculate the loss for each item in the batch.\n",
    "    y_pred = tf.argmax(y_pred, axis=-1)\n",
    "    y_pred = tf.cast(y_pred, y_true.dtype)\n",
    "\n",
    "    match = tf.cast(y_true == y_pred, tf.float32)\n",
    "    mask = tf.cast(y_true != 0, tf.float32)\n",
    "\n",
    "    return tf.reduce_sum(match)/tf.reduce_sum(mask)"
   ]
  },
  {
   "cell_type": "markdown",
   "id": "76b826799d24098d",
   "metadata": {
    "id": "76b826799d24098d"
   },
   "source": [
    "配置模型进行训练："
   ]
  },
  {
   "cell_type": "code",
   "execution_count": null,
   "id": "3bed8c32d67a564c",
   "metadata": {
    "ExecuteTime": {
     "end_time": "2024-12-11T08:15:36.020756Z",
     "start_time": "2024-12-11T08:15:36.013560Z"
    },
    "id": "3bed8c32d67a564c"
   },
   "outputs": [],
   "source": [
    "model.compile(optimizer='adam',\n",
    "              loss=masked_loss,\n",
    "              metrics=[masked_acc, masked_loss])"
   ]
  },
  {
   "cell_type": "markdown",
   "id": "5cd96a9b8a9cca2b",
   "metadata": {
    "id": "5cd96a9b8a9cca2b"
   },
   "source": [
    "该模型是随机初始化的，应该给出大致均匀的输出概率。因此很容易预测指标的初始值应该是什么："
   ]
  },
  {
   "cell_type": "code",
   "execution_count": null,
   "id": "fb43212576c38056",
   "metadata": {
    "ExecuteTime": {
     "end_time": "2024-12-11T08:15:37.565530Z",
     "start_time": "2024-12-11T08:15:37.561517Z"
    },
    "colab": {
     "base_uri": "https://localhost:8080/"
    },
    "executionInfo": {
     "elapsed": 7,
     "status": "ok",
     "timestamp": 1733928684954,
     "user": {
      "displayName": "Samuel Chan",
      "userId": "17883035136517502300"
     },
     "user_tz": -480
    },
    "id": "fb43212576c38056",
    "outputId": "b589c0f7-0aab-46b6-9fd0-1174fb0458dd"
   },
   "outputs": [
    {
     "data": {
      "text/plain": [
       "{'expected_loss': 8.517193, 'expected_acc': 0.0002}"
      ]
     },
     "execution_count": 176,
     "metadata": {},
     "output_type": "execute_result"
    }
   ],
   "source": [
    "vocab_size = 1.0 * target_text_processor.vocabulary_size()\n",
    "\n",
    "{\"expected_loss\": tf.math.log(vocab_size).numpy(),\n",
    " \"expected_acc\": 1/vocab_size}"
   ]
  },
  {
   "cell_type": "markdown",
   "id": "74021400c323ab4a",
   "metadata": {
    "id": "74021400c323ab4a"
   },
   "source": [
    "这应该与运行几个评估步骤所返回的值大致匹配："
   ]
  },
  {
   "cell_type": "code",
   "execution_count": null,
   "id": "700454b7bf20c9fd",
   "metadata": {
    "ExecuteTime": {
     "end_time": "2024-12-11T08:15:42.554810Z",
     "start_time": "2024-12-11T08:15:39.464875Z"
    },
    "colab": {
     "base_uri": "https://localhost:8080/"
    },
    "executionInfo": {
     "elapsed": 10991,
     "status": "ok",
     "timestamp": 1733928695940,
     "user": {
      "displayName": "Samuel Chan",
      "userId": "17883035136517502300"
     },
     "user_tz": -480
    },
    "id": "700454b7bf20c9fd",
    "outputId": "eb158e11-5a5c-4fbe-b124-584807b1923e"
   },
   "outputs": [
    {
     "name": "stdout",
     "output_type": "stream",
     "text": [
      "20/20 [==============================] - 11s 247ms/step - loss: 8.5454 - masked_acc: 3.2977e-04 - masked_loss: 8.5454\n"
     ]
    },
    {
     "data": {
      "text/plain": [
       "{'loss': 8.545373916625977,\n",
       " 'masked_acc': 0.00032977250521071255,\n",
       " 'masked_loss': 8.545373916625977}"
      ]
     },
     "execution_count": 177,
     "metadata": {},
     "output_type": "execute_result"
    }
   ],
   "source": [
    "model.evaluate(val_ds, steps=20, return_dict=True)"
   ]
  },
  {
   "cell_type": "markdown",
   "id": "m7WHExIVSs9X",
   "metadata": {
    "id": "m7WHExIVSs9X"
   },
   "source": [
    "如果验证损失在连续 3 个 epoch 中没有改善，训练将提前停止，以防止过拟合。"
   ]
  },
  {
   "cell_type": "code",
   "execution_count": null,
   "id": "a68f2d296372d553",
   "metadata": {
    "ExecuteTime": {
     "end_time": "2024-12-11T08:40:29.411274Z",
     "start_time": "2024-12-11T08:15:43.813393Z"
    },
    "colab": {
     "base_uri": "https://localhost:8080/"
    },
    "executionInfo": {
     "elapsed": 2663946,
     "status": "ok",
     "timestamp": 1733931359873,
     "user": {
      "displayName": "Samuel Chan",
      "userId": "17883035136517502300"
     },
     "user_tz": -480
    },
    "id": "a68f2d296372d553",
    "outputId": "ea62d403-ad32-451e-c470-253adffd62af"
   },
   "outputs": [
    {
     "name": "stdout",
     "output_type": "stream",
     "text": [
      "Epoch 1/100\n",
      "100/100 [==============================] - 76s 648ms/step - loss: 5.6431 - masked_acc: 0.1698 - masked_loss: 5.6431 - val_loss: 5.0158 - val_masked_acc: 0.2273 - val_masked_loss: 5.0158\n",
      "Epoch 2/100\n",
      "100/100 [==============================] - 66s 658ms/step - loss: 4.8331 - masked_acc: 0.2397 - masked_loss: 4.8331 - val_loss: 4.6712 - val_masked_acc: 0.2492 - val_masked_loss: 4.6712\n",
      "Epoch 3/100\n",
      "100/100 [==============================] - 66s 658ms/step - loss: 4.5410 - masked_acc: 0.2606 - masked_loss: 4.5410 - val_loss: 4.4192 - val_masked_acc: 0.2680 - val_masked_loss: 4.4192\n",
      "Epoch 4/100\n",
      "100/100 [==============================] - 68s 683ms/step - loss: 4.2687 - masked_acc: 0.2823 - masked_loss: 4.2687 - val_loss: 4.1559 - val_masked_acc: 0.2928 - val_masked_loss: 4.1559\n",
      "Epoch 5/100\n",
      "100/100 [==============================] - 66s 659ms/step - loss: 4.0641 - masked_acc: 0.2997 - masked_loss: 4.0641 - val_loss: 3.9721 - val_masked_acc: 0.3096 - val_masked_loss: 3.9721\n",
      "Epoch 6/100\n",
      "100/100 [==============================] - 66s 661ms/step - loss: 3.8745 - masked_acc: 0.3195 - masked_loss: 3.8745 - val_loss: 3.8391 - val_masked_acc: 0.3244 - val_masked_loss: 3.8391\n",
      "Epoch 7/100\n",
      "100/100 [==============================] - 66s 662ms/step - loss: 3.7167 - masked_acc: 0.3327 - masked_loss: 3.7167 - val_loss: 3.6422 - val_masked_acc: 0.3388 - val_masked_loss: 3.6422\n",
      "Epoch 8/100\n",
      "100/100 [==============================] - 67s 667ms/step - loss: 3.5892 - masked_acc: 0.3460 - masked_loss: 3.5892 - val_loss: 3.4984 - val_masked_acc: 0.3564 - val_masked_loss: 3.4984\n",
      "Epoch 9/100\n",
      "100/100 [==============================] - 66s 662ms/step - loss: 3.4908 - masked_acc: 0.3557 - masked_loss: 3.4908 - val_loss: 3.4731 - val_masked_acc: 0.3593 - val_masked_loss: 3.4731\n",
      "Epoch 10/100\n",
      "100/100 [==============================] - 66s 659ms/step - loss: 3.4026 - masked_acc: 0.3637 - masked_loss: 3.4026 - val_loss: 3.4406 - val_masked_acc: 0.3610 - val_masked_loss: 3.4406\n",
      "Epoch 11/100\n",
      "100/100 [==============================] - 64s 644ms/step - loss: 3.3149 - masked_acc: 0.3754 - masked_loss: 3.3149 - val_loss: 3.3271 - val_masked_acc: 0.3777 - val_masked_loss: 3.3271\n",
      "Epoch 12/100\n",
      "100/100 [==============================] - 65s 653ms/step - loss: 3.2575 - masked_acc: 0.3836 - masked_loss: 3.2575 - val_loss: 3.2704 - val_masked_acc: 0.3790 - val_masked_loss: 3.2704\n",
      "Epoch 13/100\n",
      "100/100 [==============================] - 66s 662ms/step - loss: 3.2132 - masked_acc: 0.3870 - masked_loss: 3.2132 - val_loss: 3.2180 - val_masked_acc: 0.3868 - val_masked_loss: 3.2180\n",
      "Epoch 14/100\n",
      "100/100 [==============================] - 67s 663ms/step - loss: 3.1730 - masked_acc: 0.3922 - masked_loss: 3.1730 - val_loss: 3.1835 - val_masked_acc: 0.3871 - val_masked_loss: 3.1835\n",
      "Epoch 15/100\n",
      "100/100 [==============================] - 67s 669ms/step - loss: 3.1324 - masked_acc: 0.3969 - masked_loss: 3.1324 - val_loss: 3.0982 - val_masked_acc: 0.4006 - val_masked_loss: 3.0982\n",
      "Epoch 16/100\n",
      "100/100 [==============================] - 66s 660ms/step - loss: 3.0819 - masked_acc: 0.4032 - masked_loss: 3.0819 - val_loss: 3.1154 - val_masked_acc: 0.3997 - val_masked_loss: 3.1154\n",
      "Epoch 17/100\n",
      "100/100 [==============================] - 66s 658ms/step - loss: 3.0416 - masked_acc: 0.4077 - masked_loss: 3.0416 - val_loss: 3.0279 - val_masked_acc: 0.4068 - val_masked_loss: 3.0279\n",
      "Epoch 18/100\n",
      "100/100 [==============================] - 67s 669ms/step - loss: 3.0234 - masked_acc: 0.4113 - masked_loss: 3.0234 - val_loss: 3.0812 - val_masked_acc: 0.4057 - val_masked_loss: 3.0812\n",
      "Epoch 19/100\n",
      "100/100 [==============================] - 66s 663ms/step - loss: 2.9999 - masked_acc: 0.4116 - masked_loss: 2.9999 - val_loss: 2.9753 - val_masked_acc: 0.4147 - val_masked_loss: 2.9753\n",
      "Epoch 20/100\n",
      "100/100 [==============================] - 65s 650ms/step - loss: 2.9766 - masked_acc: 0.4133 - masked_loss: 2.9766 - val_loss: 2.9491 - val_masked_acc: 0.4178 - val_masked_loss: 2.9491\n",
      "Epoch 21/100\n",
      "100/100 [==============================] - 66s 656ms/step - loss: 2.9537 - masked_acc: 0.4171 - masked_loss: 2.9537 - val_loss: 2.9142 - val_masked_acc: 0.4238 - val_masked_loss: 2.9142\n",
      "Epoch 22/100\n",
      "100/100 [==============================] - 67s 673ms/step - loss: 2.9331 - masked_acc: 0.4215 - masked_loss: 2.9331 - val_loss: 2.9434 - val_masked_acc: 0.4211 - val_masked_loss: 2.9434\n",
      "Epoch 23/100\n",
      "100/100 [==============================] - 67s 672ms/step - loss: 2.8870 - masked_acc: 0.4279 - masked_loss: 2.8870 - val_loss: 2.9308 - val_masked_acc: 0.4206 - val_masked_loss: 2.9308\n",
      "Epoch 24/100\n",
      "100/100 [==============================] - 67s 675ms/step - loss: 2.8812 - masked_acc: 0.4257 - masked_loss: 2.8812 - val_loss: 2.9093 - val_masked_acc: 0.4271 - val_masked_loss: 2.9093\n",
      "Epoch 25/100\n",
      "100/100 [==============================] - 67s 668ms/step - loss: 2.8707 - masked_acc: 0.4273 - masked_loss: 2.8707 - val_loss: 2.9160 - val_masked_acc: 0.4221 - val_masked_loss: 2.9160\n",
      "Epoch 26/100\n",
      "100/100 [==============================] - 67s 667ms/step - loss: 2.8382 - masked_acc: 0.4318 - masked_loss: 2.8382 - val_loss: 2.8456 - val_masked_acc: 0.4339 - val_masked_loss: 2.8456\n",
      "Epoch 27/100\n",
      "100/100 [==============================] - 67s 671ms/step - loss: 2.8480 - masked_acc: 0.4329 - masked_loss: 2.8480 - val_loss: 2.8203 - val_masked_acc: 0.4339 - val_masked_loss: 2.8203\n",
      "Epoch 28/100\n",
      "100/100 [==============================] - 66s 664ms/step - loss: 2.8335 - masked_acc: 0.4337 - masked_loss: 2.8335 - val_loss: 2.8412 - val_masked_acc: 0.4338 - val_masked_loss: 2.8412\n",
      "Epoch 29/100\n",
      "100/100 [==============================] - 68s 678ms/step - loss: 2.8068 - masked_acc: 0.4366 - masked_loss: 2.8068 - val_loss: 2.8285 - val_masked_acc: 0.4362 - val_masked_loss: 2.8285\n",
      "Epoch 30/100\n",
      "100/100 [==============================] - 67s 669ms/step - loss: 2.7996 - masked_acc: 0.4386 - masked_loss: 2.7996 - val_loss: 2.7968 - val_masked_acc: 0.4387 - val_masked_loss: 2.7968\n",
      "Epoch 31/100\n",
      "100/100 [==============================] - 66s 665ms/step - loss: 2.7767 - masked_acc: 0.4426 - masked_loss: 2.7767 - val_loss: 2.7804 - val_masked_acc: 0.4386 - val_masked_loss: 2.7804\n",
      "Epoch 32/100\n",
      "100/100 [==============================] - 67s 674ms/step - loss: 2.7637 - masked_acc: 0.4437 - masked_loss: 2.7637 - val_loss: 2.7852 - val_masked_acc: 0.4411 - val_masked_loss: 2.7852\n",
      "Epoch 33/100\n",
      "100/100 [==============================] - 67s 662ms/step - loss: 2.7538 - masked_acc: 0.4450 - masked_loss: 2.7538 - val_loss: 2.7832 - val_masked_acc: 0.4467 - val_masked_loss: 2.7832\n",
      "Epoch 34/100\n",
      "100/100 [==============================] - 67s 666ms/step - loss: 2.6945 - masked_acc: 0.4511 - masked_loss: 2.6946 - val_loss: 2.7419 - val_masked_acc: 0.4457 - val_masked_loss: 2.7419\n",
      "Epoch 35/100\n",
      "100/100 [==============================] - 66s 665ms/step - loss: 2.5487 - masked_acc: 0.4665 - masked_loss: 2.5487 - val_loss: 2.7563 - val_masked_acc: 0.4447 - val_masked_loss: 2.7563\n",
      "Epoch 36/100\n",
      "100/100 [==============================] - 64s 643ms/step - loss: 2.5674 - masked_acc: 0.4663 - masked_loss: 2.5674 - val_loss: 2.7433 - val_masked_acc: 0.4499 - val_masked_loss: 2.7433\n",
      "Epoch 37/100\n",
      "100/100 [==============================] - 66s 661ms/step - loss: 2.5854 - masked_acc: 0.4649 - masked_loss: 2.5854 - val_loss: 2.7358 - val_masked_acc: 0.4492 - val_masked_loss: 2.7358\n",
      "Epoch 38/100\n",
      "100/100 [==============================] - 67s 672ms/step - loss: 2.5704 - masked_acc: 0.4642 - masked_loss: 2.5704 - val_loss: 2.7406 - val_masked_acc: 0.4524 - val_masked_loss: 2.7406\n",
      "Epoch 39/100\n",
      "100/100 [==============================] - 67s 667ms/step - loss: 2.5728 - masked_acc: 0.4655 - masked_loss: 2.5728 - val_loss: 2.7657 - val_masked_acc: 0.4447 - val_masked_loss: 2.7657\n",
      "Epoch 40/100\n",
      "100/100 [==============================] - 64s 644ms/step - loss: 2.5984 - masked_acc: 0.4633 - masked_loss: 2.5984 - val_loss: 2.7479 - val_masked_acc: 0.4470 - val_masked_loss: 2.7479\n"
     ]
    }
   ],
   "source": [
    "history = model.fit(\n",
    "    train_ds.repeat(),\n",
    "    epochs=100,\n",
    "    steps_per_epoch = 100,\n",
    "    validation_data=val_ds,\n",
    "    validation_steps = 20,\n",
    "    callbacks=[\n",
    "        tf.keras.callbacks.EarlyStopping(patience=3)])"
   ]
  },
  {
   "cell_type": "code",
   "execution_count": null,
   "id": "45f991dbaf5b4ffe",
   "metadata": {
    "ExecuteTime": {
     "end_time": "2024-12-11T08:42:07.501099Z",
     "start_time": "2024-12-11T08:42:07.435263Z"
    },
    "colab": {
     "base_uri": "https://localhost:8080/",
     "height": 467
    },
    "executionInfo": {
     "elapsed": 8,
     "status": "ok",
     "timestamp": 1733931359873,
     "user": {
      "displayName": "Samuel Chan",
      "userId": "17883035136517502300"
     },
     "user_tz": -480
    },
    "id": "45f991dbaf5b4ffe",
    "outputId": "73be38f8-7c52-45f9-9ce7-5119409fde5c"
   },
   "outputs": [
    {
     "data": {
      "text/plain": [
       "<matplotlib.legend.Legend at 0x7d748d9b3640>"
      ]
     },
     "execution_count": 179,
     "metadata": {},
     "output_type": "execute_result"
    },
    {
     "data": {
      "image/png": "[encoded data removed]",
      "text/plain": [
       "<Figure size 640x480 with 1 Axes>"
      ]
     },
     "metadata": {},
     "output_type": "display_data"
    }
   ],
   "source": [
    "plt.plot(history.history['loss'], label='loss')\n",
    "plt.plot(history.history['val_loss'], label='val_loss')\n",
    "plt.ylim([0, max(plt.ylim())])\n",
    "plt.xlabel('Epoch #')\n",
    "plt.ylabel('CE/token')\n",
    "plt.legend()"
   ]
  },
  {
   "cell_type": "markdown",
   "id": "08Md16hrRVIj",
   "metadata": {
    "id": "08Md16hrRVIj"
   },
   "source": [
    "## 通过交叉熵计算perplexity"
   ]
  },
  {
   "cell_type": "code",
   "execution_count": null,
   "id": "0i2BBRPgRN1p",
   "metadata": {
    "colab": {
     "base_uri": "https://localhost:8080/",
     "height": 449
    },
    "executionInfo": {
     "elapsed": 618,
     "status": "ok",
     "timestamp": 1733931490865,
     "user": {
      "displayName": "Samuel Chan",
      "userId": "17883035136517502300"
     },
     "user_tz": -480
    },
    "id": "0i2BBRPgRN1p",
    "outputId": "4e709c89-0852-4525-b399-f3709a49f275"
   },
   "outputs": [
    {
     "data": {
      "image/png": "[encoded data removed]",
      "text/plain": [
       "<Figure size 640x480 with 1 Axes>"
      ]
     },
     "metadata": {},
     "output_type": "display_data"
    }
   ],
   "source": [
    "import numpy as np\n",
    "\n",
    "plt.plot(np.exp(history.history['loss']), label='Perplexity')\n",
    "plt.plot(np.exp(history.history['val_loss']), label='Val Perplexity')\n",
    "plt.ylim([0, max(plt.ylim())])\n",
    "plt.xlabel('Epoch #')\n",
    "plt.ylabel('Perplexity')\n",
    "plt.legend()\n",
    "plt.show()"
   ]
  },
  {
   "cell_type": "code",
   "execution_count": null,
   "id": "39ded091452797ac",
   "metadata": {
    "ExecuteTime": {
     "end_time": "2024-12-11T08:42:12.861018Z",
     "start_time": "2024-12-11T08:42:12.798681Z"
    },
    "colab": {
     "base_uri": "https://localhost:8080/",
     "height": 467
    },
    "executionInfo": {
     "elapsed": 6,
     "status": "ok",
     "timestamp": 1733931359873,
     "user": {
      "displayName": "Samuel Chan",
      "userId": "17883035136517502300"
     },
     "user_tz": -480
    },
    "id": "39ded091452797ac",
    "outputId": "02fbbe92-d8ef-49d4-9cd4-07bbc8eb4008"
   },
   "outputs": [
    {
     "data": {
      "text/plain": [
       "<matplotlib.legend.Legend at 0x7d748ec5e0b0>"
      ]
     },
     "execution_count": 180,
     "metadata": {},
     "output_type": "execute_result"
    },
    {
     "data": {
      "image/png": "[encoded data removed]",
      "text/plain": [
       "<Figure size 640x480 with 1 Axes>"
      ]
     },
     "metadata": {},
     "output_type": "display_data"
    }
   ],
   "source": [
    "plt.plot(history.history['masked_acc'], label='accuracy')\n",
    "plt.plot(history.history['val_masked_acc'], label='val_accuracy')\n",
    "plt.ylim([0, max(plt.ylim())])\n",
    "plt.xlabel('Epoch #')\n",
    "plt.ylabel('CE/token')\n",
    "plt.legend()"
   ]
  },
  {
   "cell_type": "markdown",
   "id": "f01724f889ecdc8f",
   "metadata": {
    "id": "f01724f889ecdc8f"
   },
   "source": [
    "### 翻译\n",
    "\n",
    "现在模型已经训练完毕，需要实现一个函数来执行完整的翻译。此代码与解码器部分中的推理示例text => text基本相同，但这还捕获了注意力权重。"
   ]
  },
  {
   "cell_type": "code",
   "execution_count": null,
   "id": "769f40a10dc45604",
   "metadata": {
    "ExecuteTime": {
     "end_time": "2024-12-11T08:46:03.419297Z",
     "start_time": "2024-12-11T08:46:03.415691Z"
    },
    "id": "769f40a10dc45604"
   },
   "outputs": [],
   "source": [
    "@Translator.add_method\n",
    "def translate(self,\n",
    "              texts, *,\n",
    "              max_length=50,\n",
    "              temperature=0.0):\n",
    "    # Process the input texts\n",
    "    context = self.encoder.convert_input(texts)\n",
    "    batch_size = tf.shape(texts)[0]\n",
    "\n",
    "    # Setup the loop inputs\n",
    "    tokens = []\n",
    "    attention_weights = []\n",
    "    next_token, done, state = self.decoder.get_initial_state(context)\n",
    "\n",
    "    for _ in range(max_length):\n",
    "        # Generate the next token\n",
    "        next_token, done, state = self.decoder.get_next_token(\n",
    "            context, next_token, done,  state, temperature)\n",
    "\n",
    "        # Collect the generated tokens\n",
    "        tokens.append(next_token)\n",
    "        attention_weights.append(self.decoder.last_attention_weights)\n",
    "\n",
    "        if tf.executing_eagerly() and tf.reduce_all(done):\n",
    "            break\n",
    "\n",
    "    # Stack the lists of tokens and attention weights.\n",
    "    tokens = tf.concat(tokens, axis=-1)   # t*[(batch 1)] -> (batch, t)\n",
    "    self.last_attention_weights = tf.concat(attention_weights, axis=1)  # t*[(batch 1 s)] -> (batch, t s)\n",
    "\n",
    "    result = self.decoder.tokens_to_text(tokens)\n",
    "    return result"
   ]
  },
  {
   "cell_type": "markdown",
   "id": "e-xon31FWPeu",
   "metadata": {
    "id": "e-xon31FWPeu"
   },
   "source": [
    "以下是上面使用的两种辅助方法，用于将标记转换为文本，并获取下一个标记："
   ]
  },
  {
   "cell_type": "code",
   "execution_count": null,
   "id": "512d361633529c8",
   "metadata": {
    "colab": {
     "base_uri": "https://localhost:8080/",
     "height": 35
    },
    "executionInfo": {
     "elapsed": 559,
     "status": "ok",
     "timestamp": 1733933113944,
     "user": {
      "displayName": "Samuel Chan",
      "userId": "17883035136517502300"
     },
     "user_tz": -480
    },
    "id": "512d361633529c8",
    "outputId": "7bad8060-5c41-4e2d-ef63-de1e4ac6edc7"
   },
   "outputs": [
    {
     "data": {
      "application/vnd.google.colaboratory.intrinsic+json": {
       "type": "string"
      },
      "text/plain": [
       "'i prefer you . '"
      ]
     },
     "execution_count": 203,
     "metadata": {},
     "output_type": "execute_result"
    }
   ],
   "source": [
    "example = ' '.join(jieba.cut('我喜欢你'))\n",
    "result = model.translate([example])\n",
    "result[0].numpy().decode()"
   ]
  },
  {
   "cell_type": "markdown",
   "id": "IHP4d9GRWdyn",
   "metadata": {
    "id": "IHP4d9GRWdyn"
   },
   "source": [
    "使用它来生成注意力图："
   ]
  },
  {
   "cell_type": "code",
   "execution_count": null,
   "id": "6aa80cbd27ef6419",
   "metadata": {
    "ExecuteTime": {
     "end_time": "2024-12-11T08:43:33.402660Z",
     "start_time": "2024-12-11T08:43:33.399106Z"
    },
    "id": "6aa80cbd27ef6419"
   },
   "outputs": [],
   "source": [
    "@Translator.add_method\n",
    "def plot_attention(self, text, **kwargs):\n",
    "    assert isinstance(text, str)\n",
    "    output = self.translate([text], **kwargs)\n",
    "    output = output[0].numpy().decode()\n",
    "\n",
    "    attention = self.last_attention_weights[0]\n",
    "\n",
    "    context = tf_lower_and_split_punct(text)\n",
    "    context = context.numpy().decode().split()\n",
    "\n",
    "    output = tf_lower_and_split_punct(output)\n",
    "    output = output.numpy().decode().split()[1:]\n",
    "\n",
    "    fig = plt.figure(figsize=(10, 10))\n",
    "    ax = fig.add_subplot(1, 1, 1)\n",
    "\n",
    "    ax.matshow(attention, cmap='viridis', vmin=0.0)\n",
    "\n",
    "    fontdict = {'fontsize': 14}\n",
    "\n",
    "    ax.set_xticklabels([''] + context, fontdict=fontdict, rotation=90)\n",
    "    ax.set_yticklabels([''] + output, fontdict=fontdict)\n",
    "\n",
    "    ax.xaxis.set_major_locator(ticker.MultipleLocator(1))\n",
    "    ax.yaxis.set_major_locator(ticker.MultipleLocator(1))\n",
    "\n",
    "    ax.set_xlabel('Input text')\n",
    "    ax.set_ylabel('Output text')"
   ]
  },
  {
   "cell_type": "code",
   "execution_count": null,
   "id": "AS-WZG7lD01F",
   "metadata": {
    "colab": {
     "base_uri": "https://localhost:8080/",
     "height": 1000
    },
    "executionInfo": {
     "elapsed": 796,
     "status": "ok",
     "timestamp": 1733933127944,
     "user": {
      "displayName": "Samuel Chan",
      "userId": "17883035136517502300"
     },
     "user_tz": -480
    },
    "id": "AS-WZG7lD01F",
    "outputId": "b19c8625-7fc6-4ab3-ffa2-e3c08f4d649b"
   },
   "outputs": [
    {
     "name": "stderr",
     "output_type": "stream",
     "text": [
      "<ipython-input-182-3fad64e361b8>:22: UserWarning: set_ticklabels() should only be used with a fixed number of ticks, i.e. after set_ticks() or using a FixedLocator.\n",
      "  ax.set_xticklabels([''] + context, fontdict=fontdict, rotation=90)\n",
      "<ipython-input-182-3fad64e361b8>:23: UserWarning: set_ticklabels() should only be used with a fixed number of ticks, i.e. after set_ticks() or using a FixedLocator.\n",
      "  ax.set_yticklabels([''] + output, fontdict=fontdict)\n",
      "/usr/local/lib/python3.10/dist-packages/IPython/core/events.py:89: UserWarning: Glyph 25105 (\\N{CJK UNIFIED IDEOGRAPH-6211}) missing from current font.\n",
      "  func(*args, **kwargs)\n",
      "/usr/local/lib/python3.10/dist-packages/IPython/core/events.py:89: UserWarning: Glyph 21916 (\\N{CJK UNIFIED IDEOGRAPH-559C}) missing from current font.\n",
      "  func(*args, **kwargs)\n",
      "/usr/local/lib/python3.10/dist-packages/IPython/core/events.py:89: UserWarning: Glyph 27426 (\\N{CJK UNIFIED IDEOGRAPH-6B22}) missing from current font.\n",
      "  func(*args, **kwargs)\n",
      "/usr/local/lib/python3.10/dist-packages/IPython/core/events.py:89: UserWarning: Glyph 20320 (\\N{CJK UNIFIED IDEOGRAPH-4F60}) missing from current font.\n",
      "  func(*args, **kwargs)\n",
      "/usr/local/lib/python3.10/dist-packages/IPython/core/pylabtools.py:151: UserWarning: Glyph 25105 (\\N{CJK UNIFIED IDEOGRAPH-6211}) missing from current font.\n",
      "  fig.canvas.print_figure(bytes_io, **kw)\n",
      "/usr/local/lib/python3.10/dist-packages/IPython/core/pylabtools.py:151: UserWarning: Glyph 21916 (\\N{CJK UNIFIED IDEOGRAPH-559C}) missing from current font.\n",
      "  fig.canvas.print_figure(bytes_io, **kw)\n",
      "/usr/local/lib/python3.10/dist-packages/IPython/core/pylabtools.py:151: UserWarning: Glyph 27426 (\\N{CJK UNIFIED IDEOGRAPH-6B22}) missing from current font.\n",
      "  fig.canvas.print_figure(bytes_io, **kw)\n",
      "/usr/local/lib/python3.10/dist-packages/IPython/core/pylabtools.py:151: UserWarning: Glyph 20320 (\\N{CJK UNIFIED IDEOGRAPH-4F60}) missing from current font.\n",
      "  fig.canvas.print_figure(bytes_io, **kw)\n"
     ]
    },
    {
     "data": {
      "image/png": "[encoded data removed]",
      "text/plain": [
       "<Figure size 1000x1000 with 1 Axes>"
      ]
     },
     "metadata": {},
     "output_type": "display_data"
    }
   ],
   "source": [
    "model.plot_attention(example) # I love you"
   ]
  },
  {
   "cell_type": "markdown",
   "id": "gupOu_RwYQXJ",
   "metadata": {
    "id": "gupOu_RwYQXJ"
   },
   "source": [
    "### 出口\n",
    "\n",
    "如果要导出此模型，则需要将translate方法包装在 中tf.function。该实现将完成工作："
   ]
  },
  {
   "cell_type": "code",
   "execution_count": null,
   "id": "f209409c2ea9a3c",
   "metadata": {
    "ExecuteTime": {
     "end_time": "2024-12-11T08:46:10.404791Z",
     "start_time": "2024-12-11T08:46:10.402064Z"
    },
    "id": "f209409c2ea9a3c"
   },
   "outputs": [],
   "source": [
    "class Export(tf.Module):\n",
    "    def __init__(self, model):\n",
    "        self.model = model\n",
    "\n",
    "    @tf.function(input_signature=[tf.TensorSpec(dtype=tf.string, shape=[None])])\n",
    "    def translate(self, inputs):\n",
    "        return self.model.translate(inputs)"
   ]
  },
  {
   "cell_type": "code",
   "execution_count": null,
   "id": "7cfaa357f3463279",
   "metadata": {
    "ExecuteTime": {
     "end_time": "2024-12-11T08:46:13.636301Z",
     "start_time": "2024-12-11T08:46:13.633850Z"
    },
    "id": "7cfaa357f3463279"
   },
   "outputs": [],
   "source": [
    "export = Export(model)"
   ]
  },
  {
   "cell_type": "code",
   "execution_count": null,
   "id": "8afce316a6c6554a",
   "metadata": {
    "colab": {
     "base_uri": "https://localhost:8080/"
    },
    "executionInfo": {
     "elapsed": 82310,
     "status": "ok",
     "timestamp": 1733936224936,
     "user": {
      "displayName": "Samuel Chan",
      "userId": "17883035136517502300"
     },
     "user_tz": -480
    },
    "id": "8afce316a6c6554a",
    "outputId": "db4e93f0-e72b-4290-9344-6030a24b3d8f"
   },
   "outputs": [
    {
     "name": "stderr",
     "output_type": "stream",
     "text": [
      "WARNING:tensorflow:Model's `__init__()` arguments contain non-serializable objects. Please implement a `get_config()` method in the subclassed Model for proper saving and loading. Defaulting to empty config.\n",
      "WARNING:tensorflow:Model's `__init__()` arguments contain non-serializable objects. Please implement a `get_config()` method in the subclassed Model for proper saving and loading. Defaulting to empty config.\n",
      "WARNING:absl:Found untraced functions such as _update_step_xla, embedding_8_layer_call_fn, embedding_8_layer_call_and_return_conditional_losses, embedding_9_layer_call_fn, embedding_9_layer_call_and_return_conditional_losses while saving (showing 5 of 33). These functions will not be directly callable after loading.\n"
     ]
    }
   ],
   "source": [
    "tf.saved_model.save(export, 'translator',\n",
    "                    signatures={'serving_default': export.translate})"
   ]
  },
  {
   "cell_type": "markdown",
   "id": "HCd5cmk5bXKw",
   "metadata": {
    "id": "HCd5cmk5bXKw"
   },
   "source": [
    "## 计算bleu\n",
    "\n",
    "导入必要的库："
   ]
  },
  {
   "cell_type": "code",
   "execution_count": null,
   "id": "llMZKY3Hbin1",
   "metadata": {
    "id": "llMZKY3Hbin1"
   },
   "outputs": [],
   "source": [
    "import nltk\n",
    "from nltk.translate.bleu_score import sentence_bleu"
   ]
  },
  {
   "cell_type": "markdown",
   "id": "DN6MRky1buh0",
   "metadata": {
    "id": "DN6MRky1buh0"
   },
   "source": [
    "导入测试数据集："
   ]
  },
  {
   "cell_type": "code",
   "execution_count": null,
   "id": "HVHnVcXLcPRJ",
   "metadata": {
    "colab": {
     "base_uri": "https://localhost:8080/"
    },
    "executionInfo": {
     "elapsed": 4334,
     "status": "ok",
     "timestamp": 1733932942021,
     "user": {
      "displayName": "Samuel Chan",
      "userId": "17883035136517502300"
     },
     "user_tz": -480
    },
    "id": "HVHnVcXLcPRJ",
    "outputId": "25dead1f-90b7-4d4b-8013-bacdd7e5889b"
   },
   "outputs": [
    {
     "name": "stdout",
     "output_type": "stream",
     "text": [
      "在 美国 ， 艾滋病 活跃分子 走上 街头 ， 甚至 在 1988 年 10 月 的 某日 令 食品 和 药品 监督局 总部 关门   。\n",
      "In the United States, AIDS activists took to the streets, even shutting down the Food and Drug Administration’s headquarters for a day in October 1988.\n"
     ]
    }
   ],
   "source": [
    "zh_test_file = pathlib.Path('data/test.zh')\n",
    "en_test_file = pathlib.Path('data/test.en')\n",
    "\n",
    "zh_test_raw = load_zh_data(zh_test_file)\n",
    "en_test_raw = load_en_data(en_test_file)\n",
    "\n",
    "print(zh_test_raw[0])\n",
    "print(en_test_raw[0])"
   ]
  },
  {
   "cell_type": "markdown",
   "id": "8Mm1qWJzeKDl",
   "metadata": {
    "id": "8Mm1qWJzeKDl"
   },
   "source": [
    "翻译测试集：\n",
    "（由于计算资源有限，仅取前100句进行计算）"
   ]
  },
  {
   "cell_type": "code",
   "execution_count": null,
   "id": "7yDA3qM8dfR2",
   "metadata": {
    "colab": {
     "base_uri": "https://localhost:8080/"
    },
    "executionInfo": {
     "elapsed": 85673,
     "status": "ok",
     "timestamp": 1733934149699,
     "user": {
      "displayName": "Samuel Chan",
      "userId": "17883035136517502300"
     },
     "user_tz": -480
    },
    "id": "7yDA3qM8dfR2",
    "outputId": "4dda80a6-555d-4b94-b242-d2e94d09a797"
   },
   "outputs": [
    {
     "name": "stdout",
     "output_type": "stream",
     "text": [
      "in the united states , aids [UNK] on the street , and even in the streets of october [UNK] , [UNK] [UNK] in october [UNK] . \n"
     ]
    }
   ],
   "source": [
    "translations = [model.translate([example])[0].numpy().decode() for example in zh_test_raw[:100]]\n",
    "\n",
    "print(translations[0])"
   ]
  },
  {
   "cell_type": "code",
   "execution_count": null,
   "id": "-eI2rYMEnxeZ",
   "metadata": {
    "id": "-eI2rYMEnxeZ"
   },
   "outputs": [],
   "source": [
    "references = [[ref.lower()] for ref in en_val_raw[:100]]"
   ]
  },
  {
   "cell_type": "code",
   "execution_count": null,
   "id": "o2TFgPGtos5N",
   "metadata": {
    "colab": {
     "base_uri": "https://localhost:8080/"
    },
    "executionInfo": {
     "elapsed": 709,
     "status": "ok",
     "timestamp": 1733935958240,
     "user": {
      "displayName": "Samuel Chan",
      "userId": "17883035136517502300"
     },
     "user_tz": -480
    },
    "id": "o2TFgPGtos5N",
    "outputId": "550566be-0893-4da0-a4ae-b3fb829910c3"
   },
   "outputs": [
    {
     "name": "stdout",
     "output_type": "stream",
     "text": [
      "平均 BLEU-1 分数（前 100 个）: 0.3665379014589563\n",
      "平均 BLEU-2 分数（前 100 个）: 0.17009023226785036\n",
      "平均 BLEU-3 分数（前 100 个）: 0.0582781761072587\n"
     ]
    }
   ],
   "source": [
    "bleu_scores = []\n",
    "for i in range(len(translations)):\n",
    "    # 计算 BLEU-1, BLEU-2, BLEU-3\n",
    "    score1 = sentence_bleu(references[i], translations[i], weights=(1, 0, 0, 0))\n",
    "    score2 = sentence_bleu(references[i], translations[i], weights=(0, 1, 0, 0))\n",
    "    score3 = sentence_bleu(references[i], translations[i], weights=(0, 0, 1, 0))\n",
    "\n",
    "    # 将 BLEU-1, BLEU-2, BLEU-3 分数存储到列表中\n",
    "    bleu_scores.append((score1, score2, score3))\n",
    "\n",
    "# 计算平均 BLEU-1, BLEU-2, BLEU-3 分数\n",
    "avg_bleu1 = sum([score[0] for score in bleu_scores]) / len(bleu_scores)\n",
    "avg_bleu2 = sum([score[1] for score in bleu_scores]) / len(bleu_scores)\n",
    "avg_bleu3 = sum([score[2] for score in bleu_scores]) / len(bleu_scores)\n",
    "\n",
    "print(f\"平均 BLEU-1 分数（前 100 个）: {avg_bleu1}\")\n",
    "print(f\"平均 BLEU-2 分数（前 100 个）: {avg_bleu2}\")\n",
    "print(f\"平均 BLEU-3 分数（前 100 个）: {avg_bleu3}\")"
   ]
  },
  {
   "cell_type": "markdown",
   "id": "EcPtnd2setZS",
   "metadata": {
    "id": "EcPtnd2setZS"
   },
   "source": [
    "## 英文翻译中文\n",
    "\n",
    "只需要将target和context对调即可。"
   ]
  },
  {
   "cell_type": "code",
   "execution_count": null,
   "id": "c8fb62e053753df3",
   "metadata": {},
   "outputs": [],
   "source": [
    "target_raw = np.concatenate((zh_train_raw, zh_val_raw))\n",
    "train_raw = np.concatenate((en_train_raw, en_val_raw))"
   ]
  },
  {
   "cell_type": "markdown",
   "id": "f582ce76793b6474",
   "metadata": {},
   "source": [
    "后续操作与训练中译英模型完全一致，经验证后，可以得到与中译英模型相似的训练效果"
   ]
  },
  {
   "cell_type": "markdown",
   "id": "8TWqKQ5Ls2cv",
   "metadata": {
    "id": "8TWqKQ5Ls2cv"
   },
   "source": [
    "## 实验总结\n",
    "\n",
    "\t1.\t数据处理：\n",
    "\t\t数据清洗与预处理（如分词、加入特殊标记等）。\n",
    "\t\t将中英文语料转化为序列张量，并进行 Padding。\n",
    "\t2.\t模型设计：\n",
    "\t\t编码器（GRU + 嵌入层）。\n",
    "\t\t注意力机制（CrossAttention）。\n",
    "\t\t解码器（GRU + 嵌入层 + 全连接层）。\n",
    "\t3.\t训练与优化：\n",
    "\t    使用交叉熵损失（SparseCategoricalCrossentropy）。\n",
    "\t\t教师强制（Teacher Forcing）机制。\n",
    "\t\t优化器（Adam）。\n",
    "\t4.\t保存与恢复模型：\n",
    "\t\t使用 TensorFlow 的检查点机制保存和加载模型。\n",
    "\t5.\t评估：\n",
    "\t\t编写了 BLEU 和 Perplexity 的计算方法。\n",
    "\t6.\t翻译测试：\n",
    "\t\t通过 translate 函数完成中译英句子生成。"
   ]
  }
 ],
 "metadata": {
  "accelerator": "GPU",
  "colab": {
   "gpuType": "L4",
   "machine_shape": "hm",
   "provenance": []
  },
  "kernelspec": {
   "display_name": "Python 3 (ipykernel)",
   "language": "python",
   "name": "python3"
  },
  "language_info": {
   "codemirror_mode": {
    "name": "ipython",
    "version": 3
   },
   "file_extension": ".py",
   "mimetype": "text/x-python",
   "name": "python",
   "nbconvert_exporter": "python",
   "pygments_lexer": "ipython3",
   "version": "3.11.10"
  }
 },
 "nbformat": 4,
 "nbformat_minor": 5
}
